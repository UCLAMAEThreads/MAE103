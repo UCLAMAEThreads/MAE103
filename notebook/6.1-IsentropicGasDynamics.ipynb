{
 "cells": [
  {
   "cell_type": "markdown",
   "metadata": {},
   "source": [
    "<img src=\"https://raw.githubusercontent.com/UCLAMAEThreads/MAE103/main/notebook/logo_UCLA_blue_boxed.svg\" alt=\"ucla logo\" width=\"150\" align=\"left\"/>"
   ]
  },
  {
   "cell_type": "markdown",
   "metadata": {},
   "source": [
    "### **MAE 103 - Elementary Fluid Mechanics**\n",
    "<hr />"
   ]
  },
  {
   "cell_type": "markdown",
   "metadata": {},
   "source": [
    "# Isentropic quasi-1D steady compressible flow\n",
    "This notebook demonstrates the use of the compressible flow tools for computing\n",
    "states and processes in isentropic quasi-1d steady compressible flow."
   ]
  },
  {
   "cell_type": "markdown",
   "metadata": {},
   "source": [
    "### Set up the module"
   ]
  },
  {
   "cell_type": "code",
   "execution_count": 1,
   "metadata": {},
   "outputs": [],
   "source": [
    "using MAE103"
   ]
  },
  {
   "cell_type": "code",
   "execution_count": 2,
   "metadata": {},
   "outputs": [
    {
     "name": "stderr",
     "output_type": "stream",
     "text": [
      "┌ Info: Precompiling Plots [91a5bcdd-55d7-5caf-9e0b-520d859cae80]\n",
      "└ @ Base loading.jl:1317\n",
      "┌ Info: Precompiling PyPlot [d330b81b-6aea-500a-939a-2ce795aea3ee]\n",
      "└ @ Base loading.jl:1317\n"
     ]
    }
   ],
   "source": [
    "using Plots"
   ]
  },
  {
   "cell_type": "markdown",
   "metadata": {},
   "source": [
    "### Using isentropic relations\n",
    "Let us apply some basic isentropic relations."
   ]
  },
  {
   "cell_type": "markdown",
   "metadata": {},
   "source": [
    "#### Example 1\n",
    "Let's suppose two states of the flow in air, 1 and 2, are connected with each\n",
    "other by an isentropic process. We know the pressure p1 is 101 kPa, the temperature\n",
    "T1 is 20 degrees C, and the pressure p2 is 80 kPa. What is temperature T2?\n",
    "\n",
    "To answer this, we will use the relationship\n",
    "\n",
    "$$\\dfrac{T_2}{T_1} = \\left( \\dfrac{p_2}{p_1}\\right)^{(\\gamma-1)/\\gamma}$$"
   ]
  },
  {
   "cell_type": "code",
   "execution_count": 3,
   "metadata": {},
   "outputs": [
    {
     "data": {
      "text/plain": [
       "Pressure = 80000.0 Pa"
      ]
     },
     "execution_count": 3,
     "metadata": {},
     "output_type": "execute_result"
    }
   ],
   "source": [
    "p1 = Pressure(101u\"kPa\")\n",
    "T1 = Temperature(20u\"°C\")\n",
    "p2 = Pressure(80u\"kPa\")"
   ]
  },
  {
   "cell_type": "markdown",
   "metadata": {},
   "source": [
    "First, let's set the pressure ratio:"
   ]
  },
  {
   "cell_type": "code",
   "execution_count": 4,
   "metadata": {},
   "outputs": [
    {
     "data": {
      "text/plain": [
       "PressureRatio = 0.7920792079207921"
      ]
     },
     "execution_count": 4,
     "metadata": {},
     "output_type": "execute_result"
    }
   ],
   "source": [
    "p2_over_p1 = PressureRatio(p2/p1)"
   ]
  },
  {
   "cell_type": "markdown",
   "metadata": {},
   "source": [
    "Now find the temperature ratio. Note below that we specify the argument\n",
    "`Isentropic` to make sure it is clear that we are using the isentropic relation.\n",
    "We only need this argument when it is needed for clarity."
   ]
  },
  {
   "cell_type": "code",
   "execution_count": 5,
   "metadata": {},
   "outputs": [
    {
     "data": {
      "text/plain": [
       "TemperatureRatio = 0.9355709895748232"
      ]
     },
     "execution_count": 5,
     "metadata": {},
     "output_type": "execute_result"
    }
   ],
   "source": [
    "T2_over_T1 = TemperatureRatio(p2_over_p1,Isentropic)"
   ]
  },
  {
   "cell_type": "markdown",
   "metadata": {},
   "source": [
    "It is important to understand that the tools \"know\" what formula you want to use\n",
    "(the one listed above), based on the fact that (a) you supplied it with a pressure\n",
    "ratio (the purpose of the `PressureRatio` line above), and (b) you told it that\n",
    "the process is `Isentropic`. It figures out the rest.\n",
    "Finally, calculate $T_2 = T_1 (T_2/T_1)$:"
   ]
  },
  {
   "cell_type": "code",
   "execution_count": 6,
   "metadata": {},
   "outputs": [
    {
     "data": {
      "text/plain": [
       "Temperature = 274.2626355938594 K"
      ]
     },
     "execution_count": 6,
     "metadata": {},
     "output_type": "execute_result"
    }
   ],
   "source": [
    "T2 = Temperature(T1*T2_over_T1)"
   ]
  },
  {
   "cell_type": "markdown",
   "metadata": {},
   "source": [
    "or, in Celsius, if desired"
   ]
  },
  {
   "cell_type": "code",
   "execution_count": 9,
   "metadata": {},
   "outputs": [
    {
     "data": {
      "text/plain": [
       "1.1126355938594088 °C"
      ]
     },
     "execution_count": 9,
     "metadata": {},
     "output_type": "execute_result"
    }
   ],
   "source": [
    "value(T2,u\"°C\")"
   ]
  },
  {
   "cell_type": "markdown",
   "metadata": {},
   "source": [
    "We could also do all of this in one line, though it is a bit harder to debug\n",
    "if something goes wrong:"
   ]
  },
  {
   "cell_type": "code",
   "execution_count": 10,
   "metadata": {},
   "outputs": [
    {
     "data": {
      "text/plain": [
       "Temperature = 274.2626355938594 K"
      ]
     },
     "execution_count": 10,
     "metadata": {},
     "output_type": "execute_result"
    }
   ],
   "source": [
    "T2 = Temperature(T1*TemperatureRatio(PressureRatio(p2/p1),Isentropic))"
   ]
  },
  {
   "cell_type": "markdown",
   "metadata": {},
   "source": [
    "#### Example 2\n",
    "If the temperature ratio $T/T_0$ is 0.2381, what is the Mach number?"
   ]
  },
  {
   "cell_type": "code",
   "execution_count": 11,
   "metadata": {},
   "outputs": [
    {
     "data": {
      "text/plain": [
       "MachNumber = 3.9999475007054572"
      ]
     },
     "execution_count": 11,
     "metadata": {},
     "output_type": "execute_result"
    }
   ],
   "source": [
    "MachNumber(TemperatureRatio(0.2381),Isentropic)"
   ]
  },
  {
   "cell_type": "markdown",
   "metadata": {},
   "source": [
    "#### Example 3\n",
    "If the Mach number is 4.4 and stagnation pressure is 800 kPa, what is the pressure?"
   ]
  },
  {
   "cell_type": "code",
   "execution_count": 14,
   "metadata": {},
   "outputs": [
    {
     "data": {
      "text/plain": [
       "Pressure = 3134.1119713819485 Pa"
      ]
     },
     "execution_count": 14,
     "metadata": {},
     "output_type": "execute_result"
    }
   ],
   "source": [
    "Pressure(StagnationPressure(800u\"kPa\"),MachNumber(4.4),Isentropic)"
   ]
  },
  {
   "cell_type": "code",
   "execution_count": 15,
   "metadata": {},
   "outputs": [
    {
     "data": {
      "text/plain": [
       "StagnationPressure = 800000.0 Pa"
      ]
     },
     "execution_count": 15,
     "metadata": {},
     "output_type": "execute_result"
    }
   ],
   "source": [
    "p0 = StagnationPressure(800u\"kPa\")"
   ]
  },
  {
   "cell_type": "code",
   "execution_count": 22,
   "metadata": {},
   "outputs": [
    {
     "data": {
      "text/plain": [
       "PressureRatio = 255.2557175062414"
      ]
     },
     "execution_count": 22,
     "metadata": {},
     "output_type": "execute_result"
    }
   ],
   "source": [
    "p0_over_p = P0OverP(MachNumber(4.4),Isentropic,gas=N2)"
   ]
  },
  {
   "cell_type": "code",
   "execution_count": 23,
   "metadata": {},
   "outputs": [
    {
     "data": {
      "text/plain": [
       "Pressure = 3134.1119713819485 Pa"
      ]
     },
     "execution_count": 23,
     "metadata": {},
     "output_type": "execute_result"
    }
   ],
   "source": [
    "p = Pressure(p0/p0_over_p)"
   ]
  },
  {
   "cell_type": "markdown",
   "metadata": {},
   "source": [
    "### Mach - area relations\n",
    "A big part of isentropic quasi-1D flow deals with changes of the flow in variable-area\n",
    "ducts. For these calculations, we make use of the *sonic area* $A_*$ as a reference area.\n",
    "Remember that, for any ratio of $A/A_*$, there are two possible Mach numbers,\n",
    "corresponding to a **subsonic flow** and a **supersonic flow**. Let us see that by\n",
    "plotting $A/A_*$ versus Mach number $M$. If, for example, $A/A_* = 2$, then\n",
    "note where the dashed line crosses the plot:"
   ]
  },
  {
   "cell_type": "code",
   "execution_count": 19,
   "metadata": {},
   "outputs": [
    {
     "data": {
      "text/plain": [
       "AreaRatio = 5.821828750000001"
      ]
     },
     "execution_count": 19,
     "metadata": {},
     "output_type": "execute_result"
    }
   ],
   "source": [
    "AOverAStar(MachNumber(0.1),Isentropic,gas=Air)"
   ]
  },
  {
   "cell_type": "code",
   "execution_count": 27,
   "metadata": {},
   "outputs": [
    {
     "data": {
      "text/plain": [
       "7.5"
      ]
     },
     "execution_count": 27,
     "metadata": {},
     "output_type": "execute_result"
    }
   ],
   "source": [
    "2/(SpecificHeatRatio(He)+1)/0.1"
   ]
  },
  {
   "cell_type": "code",
   "execution_count": 24,
   "metadata": {},
   "outputs": [
    {
     "data": {
      "text/plain": [
       "AreaRatio = 5.662562500000002"
      ]
     },
     "execution_count": 24,
     "metadata": {},
     "output_type": "execute_result"
    }
   ],
   "source": [
    "(2/(γ+1))"
   ]
  },
  {
   "cell_type": "code",
   "execution_count": 26,
   "metadata": {},
   "outputs": [
    {
     "data": {
      "text/plain": [
       "0.003333333333333334"
      ]
     },
     "execution_count": 26,
     "metadata": {},
     "output_type": "execute_result"
    }
   ],
   "source": [
    "(γ-1)/2*M^2"
   ]
  },
  {
   "cell_type": "code",
   "execution_count": 8,
   "metadata": {},
   "outputs": [
    {
     "data": {
      "image/png": "[encoded data removed]"
     },
     "execution_count": 8,
     "metadata": {},
     "output_type": "execute_result"
    }
   ],
   "source": [
    "Mrange = range(0,6,length=601)\n",
    "Aratio = []\n",
    "Aratio2 = []\n",
    "for M in Mrange\n",
    "    push!(Aratio,value(AOverAStar(MachNumber(M),Isentropic)))\n",
    "    push!(Aratio2,value(AOverAStar(MachNumber(M),Isentropic,gas=He)))\n",
    "end\n",
    "\n",
    "plot(Mrange,Aratio,xlim=(0,4),ylim=(0,12),yticks=0:1:12,xlabel=\"Mach number\",ylabel=L\"A/A_*\",legend=false)\n",
    "plot!(Mrange,Aratio2,xlim=(0,4),ylim=(0,12),yticks=0:1:12,xlabel=\"Mach number\",ylabel=L\"A/A_*\",legend=false)\n",
    "scatter!([1],[1])\n",
    "plot!(Mrange,2*ones(length(Mrange)),style=:dash)"
   ]
  },
  {
   "cell_type": "code",
   "execution_count": 5,
   "metadata": {},
   "outputs": [
    {
     "data": {
      "image/png": "[encoded data removed]"
     },
     "execution_count": 5,
     "metadata": {},
     "output_type": "execute_result"
    }
   ],
   "source": [
    "Mrange = range(0,6,length=601)\n",
    "Aratio = []\n",
    "for M in Mrange\n",
    "    push!(Aratio,value(AOverAStar(MachNumber(M),Isentropic,gas=He)))\n",
    "end\n",
    "\n",
    "plot(Mrange,Aratio,xlim=(0,4),ylim=(0,12),yticks=0:1:12,xlabel=\"Mach number\",ylabel=L\"A/A_*\",legend=false)\n",
    "scatter!([1],[1])\n",
    "plot!(Mrange,2*ones(length(Mrange)),style=:dash)"
   ]
  },
  {
   "cell_type": "markdown",
   "metadata": {},
   "source": [
    "#### Example 4\n",
    "What are the subsonic and supersonic Mach numbers associated with, for example,\n",
    "an area ratio $A/A_*$ of 2 (the dashed line in the plot above)? We simply input\n",
    "the desired area ratio and find the two solutions:"
   ]
  },
  {
   "cell_type": "code",
   "execution_count": 24,
   "metadata": {},
   "outputs": [],
   "source": [
    "M1, M2 = MachNumber(AreaRatio(2),Isentropic);"
   ]
  },
  {
   "cell_type": "code",
   "execution_count": 25,
   "metadata": {},
   "outputs": [
    {
     "data": {
      "text/plain": [
       "MachNumber = 0.3059038341891081"
      ]
     },
     "execution_count": 25,
     "metadata": {},
     "output_type": "execute_result"
    }
   ],
   "source": [
    "M1"
   ]
  },
  {
   "cell_type": "code",
   "execution_count": 26,
   "metadata": {},
   "outputs": [
    {
     "data": {
      "text/plain": [
       "MachNumber = 2.1971981216521868"
      ]
     },
     "execution_count": 26,
     "metadata": {},
     "output_type": "execute_result"
    }
   ],
   "source": [
    "M2"
   ]
  },
  {
   "cell_type": "code",
   "execution_count": 28,
   "metadata": {},
   "outputs": [
    {
     "data": {
      "text/plain": [
       "MachNumber = 0.3059038341891081"
      ]
     },
     "execution_count": 28,
     "metadata": {},
     "output_type": "execute_result"
    }
   ],
   "source": [
    "M1 = SubsonicMachNumber(AreaRatio(2),Isentropic)"
   ]
  },
  {
   "cell_type": "code",
   "execution_count": 29,
   "metadata": {},
   "outputs": [
    {
     "data": {
      "text/plain": [
       "MachNumber = 2.1971981216521868"
      ]
     },
     "execution_count": 29,
     "metadata": {},
     "output_type": "execute_result"
    }
   ],
   "source": [
    "M2 = SupersonicMachNumber(AreaRatio(2),Isentropic)"
   ]
  },
  {
   "cell_type": "markdown",
   "metadata": {},
   "source": [
    "A related question: What is the local sonic reference area $A_*$ when the Mach\n",
    "number is 7.1 and the local area is 50 sq cm?\n",
    "\n",
    "We first compute $A/A_*$ from $M = 7.1$, then compute $A_* = A/(A/A_*)$:"
   ]
  },
  {
   "cell_type": "code",
   "execution_count": 31,
   "metadata": {},
   "outputs": [
    {
     "data": {
      "text/plain": [
       "0.4507312336039658 cm²"
      ]
     },
     "execution_count": 31,
     "metadata": {},
     "output_type": "execute_result"
    }
   ],
   "source": [
    "A = Area(50u\"cm^2\")\n",
    "M = MachNumber(7.1)\n",
    "A_over_Astar = AOverAStar(M,Isentropic)\n",
    "Astar = Area(A/A_over_Astar)\n",
    "value(Astar,u\"cm^2\")"
   ]
  },
  {
   "cell_type": "markdown",
   "metadata": {},
   "source": [
    "So the throat would have to be 0.45 sq cm, much smaller than 50 sq cm!\n",
    "Note that there is a convenience function to do those steps all in one:"
   ]
  },
  {
   "cell_type": "code",
   "execution_count": 32,
   "metadata": {},
   "outputs": [
    {
     "data": {
      "text/plain": [
       "0.4507312336039658 cm²"
      ]
     },
     "execution_count": 32,
     "metadata": {},
     "output_type": "execute_result"
    }
   ],
   "source": [
    "value(AStar(A,M),u\"cm^2\")"
   ]
  },
  {
   "cell_type": "markdown",
   "metadata": {},
   "source": [
    "#### Example 5\n",
    "Consider the flow of air through a converging-diverging nozzle, leaving a stagnant\n",
    "reservoir at pressure $p_0$ = 700 kPa and temperature $T_0 = 30$ degrees C. The Mach\n",
    "number at a location (1) in the converging section with area 50 sq cm is equal to 0.4.\n",
    "The exit of the nozzle has area 60 sq cm.\n",
    "\n",
    "(a) What are the possible Mach numbers at the exit in choked isentropic conditions?\n",
    "What are the exit (i.e., \"back\") pressures $p_2$ associated with these two Mach numbers?\n",
    "\n",
    "(b) What is the mass flow rate through the nozzle in these conditions?"
   ]
  },
  {
   "cell_type": "markdown",
   "metadata": {},
   "source": [
    "First, we set the known values"
   ]
  },
  {
   "cell_type": "code",
   "execution_count": 33,
   "metadata": {},
   "outputs": [
    {
     "data": {
      "text/plain": [
       "MachNumber = 0.4"
      ]
     },
     "execution_count": 33,
     "metadata": {},
     "output_type": "execute_result"
    }
   ],
   "source": [
    "p0 = StagnationPressure(700u\"kPa\")\n",
    "T0 = StagnationTemperature(30u\"°C\")\n",
    "A1 = Area(50u\"cm^2\")\n",
    "A2 = Area(60u\"cm^2\")\n",
    "M1 = MachNumber(0.4)"
   ]
  },
  {
   "cell_type": "markdown",
   "metadata": {},
   "source": [
    "Now, we compute $A_1/A_*$ from $M_1$. Use this to calculate $A_*$ from $A_1/(A_1/A_*)$.\n",
    "Then calculate $A_2/A_*$:"
   ]
  },
  {
   "cell_type": "code",
   "execution_count": 34,
   "metadata": {},
   "outputs": [
    {
     "data": {
      "text/plain": [
       "AreaRatio = 1.9081680000000003"
      ]
     },
     "execution_count": 34,
     "metadata": {},
     "output_type": "execute_result"
    }
   ],
   "source": [
    "A1_over_Astar = AOverAStar(M1,Isentropic,gas=Air)\n",
    "Astar = Area(A1/A1_over_Astar)\n",
    "A2_over_Astar = AreaRatio(A2/Astar)"
   ]
  },
  {
   "cell_type": "markdown",
   "metadata": {},
   "source": [
    "Now calculate the Mach numbers at location 2 (the nozzle exit):"
   ]
  },
  {
   "cell_type": "code",
   "execution_count": 36,
   "metadata": {},
   "outputs": [
    {
     "data": {
      "text/plain": [
       "MachNumber = 0.32261298094547286"
      ]
     },
     "execution_count": 36,
     "metadata": {},
     "output_type": "execute_result"
    }
   ],
   "source": [
    "M2sub = SubsonicMachNumber(A2_over_Astar,Isentropic,gas=Air)"
   ]
  },
  {
   "cell_type": "code",
   "execution_count": 37,
   "metadata": {},
   "outputs": [
    {
     "data": {
      "text/plain": [
       "MachNumber = 2.143801088190668"
      ]
     },
     "execution_count": 37,
     "metadata": {},
     "output_type": "execute_result"
    }
   ],
   "source": [
    "M2sup = SupersonicMachNumber(A2_over_Astar,Isentropic,gas=Air)"
   ]
  },
  {
   "cell_type": "markdown",
   "metadata": {},
   "source": [
    "Actually, all of the last few steps can be done in *one step* with a different\n",
    "version of the function `MachNumber`:"
   ]
  },
  {
   "cell_type": "code",
   "execution_count": 21,
   "metadata": {},
   "outputs": [],
   "source": [
    "M2sub, M2sup = MachNumber(M1,A1,A2,Isentropic,gas=Air);"
   ]
  },
  {
   "cell_type": "markdown",
   "metadata": {},
   "source": [
    "Now let's determine the exit pressures (location 2) corresponding to these two Mach numbers:"
   ]
  },
  {
   "cell_type": "code",
   "execution_count": 38,
   "metadata": {},
   "outputs": [
    {
     "data": {
      "text/plain": [
       "651.301619254323 kPa"
      ]
     },
     "execution_count": 38,
     "metadata": {},
     "output_type": "execute_result"
    }
   ],
   "source": [
    "p0_over_p2sub = P0OverP(M2sub,Isentropic,gas=Air)\n",
    "p2sub = Pressure(p0/p0_over_p2sub)\n",
    "value(p2sub,u\"kPa\")"
   ]
  },
  {
   "cell_type": "code",
   "execution_count": 39,
   "metadata": {},
   "outputs": [
    {
     "data": {
      "text/plain": [
       "71.48184181875564 kPa"
      ]
     },
     "execution_count": 39,
     "metadata": {},
     "output_type": "execute_result"
    }
   ],
   "source": [
    "p0_over_p2sup = P0OverP(M2sup,Isentropic,gas=Air)\n",
    "p2sup = Pressure(p0/p0_over_p2sup)\n",
    "value(p2sup,u\"kPa\")"
   ]
  },
  {
   "cell_type": "markdown",
   "metadata": {},
   "source": [
    "So if the exit pressure is 651 kPa, then the flow will remain choked and **subsonic**\n",
    "throughout, and if the exit pressure is 71.5 kPa, then the flow will remain choked\n",
    "and **supersonic** throughout.\n",
    "\n",
    "Note that, because the flow is choked, the mass flow rate is the same for both of\n",
    "these cases. Let's calculate that mass flow rate (using $\\rho_1 u_1 A_1$). We need\n",
    "$\\rho_1$ and $u_1$. First, calculate the stagnation density in this nozzle:"
   ]
  },
  {
   "cell_type": "code",
   "execution_count": 24,
   "metadata": {},
   "outputs": [
    {
     "data": {
      "text/plain": [
       "StagnationDensity = 8.045602474827321 kg m⁻³"
      ]
     },
     "execution_count": 24,
     "metadata": {},
     "output_type": "execute_result"
    }
   ],
   "source": [
    "ρ0 = StagnationDensity(p0,T0,gas=Air) # this uses the perfect gas law"
   ]
  },
  {
   "cell_type": "markdown",
   "metadata": {},
   "source": [
    "Using $M_1$, find $\\rho_0/\\rho_1$:"
   ]
  },
  {
   "cell_type": "code",
   "execution_count": 25,
   "metadata": {},
   "outputs": [
    {
     "data": {
      "text/plain": [
       "DensityRatio = 1.0819301994280557"
      ]
     },
     "execution_count": 25,
     "metadata": {},
     "output_type": "execute_result"
    }
   ],
   "source": [
    "ρ0_over_ρ1 = ρ0Overρ(M1,Isentropic,gas=Air)"
   ]
  },
  {
   "cell_type": "markdown",
   "metadata": {},
   "source": [
    "So we can get $\\rho_1$ from $\\rho_0/(\\rho_0/\\rho_1)$:"
   ]
  },
  {
   "cell_type": "code",
   "execution_count": 26,
   "metadata": {},
   "outputs": [
    {
     "data": {
      "text/plain": [
       "Density = 7.436341530239654 kg m⁻³"
      ]
     },
     "execution_count": 26,
     "metadata": {},
     "output_type": "execute_result"
    }
   ],
   "source": [
    "ρ1 = Density(ρ0/ρ0_over_ρ1)"
   ]
  },
  {
   "cell_type": "markdown",
   "metadata": {},
   "source": [
    "Now get $u_1$ from $M_1 c_1$, where $c_1$ is the speed of sound. For that, we need $T_1$:"
   ]
  },
  {
   "cell_type": "code",
   "execution_count": 27,
   "metadata": {},
   "outputs": [
    {
     "data": {
      "text/plain": [
       "SoundSpeed = 343.55312544059313 m s⁻¹"
      ]
     },
     "execution_count": 27,
     "metadata": {},
     "output_type": "execute_result"
    }
   ],
   "source": [
    "T0_over_T1 = T0OverT(M1,Isentropic,gas=Air)\n",
    "T1 = Temperature(T0/T0_over_T1)\n",
    "c1 = SoundSpeed(T1)"
   ]
  },
  {
   "cell_type": "code",
   "execution_count": 28,
   "metadata": {},
   "outputs": [
    {
     "data": {
      "text/plain": [
       "Velocity = 137.42125017623727 m s⁻¹"
      ]
     },
     "execution_count": 28,
     "metadata": {},
     "output_type": "execute_result"
    }
   ],
   "source": [
    "u1 = Velocity(M1*c1)"
   ]
  },
  {
   "cell_type": "markdown",
   "metadata": {},
   "source": [
    "And now we can put it all together:"
   ]
  },
  {
   "cell_type": "code",
   "execution_count": 29,
   "metadata": {},
   "outputs": [
    {
     "data": {
      "text/plain": [
       "MassFlowRate = 5.109556749115033 kg s⁻¹"
      ]
     },
     "execution_count": 29,
     "metadata": {},
     "output_type": "execute_result"
    }
   ],
   "source": [
    "mdot = MassFlowRate(ρ1*u1*A1)"
   ]
  },
  {
   "cell_type": "markdown",
   "metadata": {},
   "source": [
    "So the mass flow rate is stuck at 5.1 kg/s"
   ]
  },
  {
   "cell_type": "markdown",
   "metadata": {},
   "source": [
    "---\n",
    "\n",
    "*This notebook was generated using [Literate.jl](https://github.com/fredrikekre/Literate.jl).*"
   ]
  }
 ],
 "metadata": {
  "kernelspec": {
   "display_name": "Julia 1.6.0",
   "language": "julia",
   "name": "julia-1.6"
  },
  "language_info": {
   "file_extension": ".jl",
   "mimetype": "application/julia",
   "name": "julia",
   "version": "1.6.0"
  }
 },
 "nbformat": 4,
 "nbformat_minor": 3
}
