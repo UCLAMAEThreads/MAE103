{
 "cells": [
  {
   "cell_type": "markdown",
   "metadata": {},
   "source": [
    "<img src=\"https://raw.githubusercontent.com/UCLAMAEThreads/MAE103/main/notebook/logo_UCLA_blue_boxed.svg\" alt=\"ucla logo\" width=\"150\" align=\"left\"/>"
   ]
  },
  {
   "cell_type": "markdown",
   "metadata": {},
   "source": [
    "### **MAE 103 - Elementary Fluid Mechanics**\n",
    "<hr />"
   ]
  },
  {
   "cell_type": "markdown",
   "metadata": {},
   "source": [
    "# Example calculation in a pipe system\n",
    "In this notebook we will see an example of how to solve a problem in a pipe\n",
    "system, using the 1-d steady-flow energy equation.\n",
    "\n",
    "In our calculations, we will use the units that we discussed in notebook 1.0\n",
    "in order to take advantage of the useful tools that come with them."
   ]
  },
  {
   "cell_type": "markdown",
   "metadata": {},
   "source": [
    "### Set up the module"
   ]
  },
  {
   "cell_type": "code",
   "execution_count": 1,
   "metadata": {},
   "outputs": [],
   "source": [
    "using MAE103"
   ]
  },
  {
   "cell_type": "markdown",
   "metadata": {},
   "source": [
    "## Example: Find the flow rate\n",
    "In this example (Example 8.10 in the textbook), we are to determine the change of\n",
    "flow rate that occurs after we modify a design for a fume hood. The fume hood\n",
    "involves a fan that pumps air and noxious gas out of an enclosed region,\n",
    "through a duct, and out to the atmosphere where it can safely mix with the\n",
    "ambient air. The existing design involves a fan with a short duct of diameter\n",
    "8 inches, and the losses correpond to a loss coefficient of $K_L = 5$. This\n",
    "leads to a flow rate of $\\dot{Q}_0 = 9$ ft$^3$/s, which is safely within\n",
    "the regulated range of 6 to 12 ft$^3$/s.\n",
    "\n",
    "The new design involves a long 100 ft pipe of galvanized iron (leading to\n",
    "major loss from viscosity) and a new total loss coefficient of $K_L = 10$.\n",
    "We wish to see if the new design's volume flow rate falls within the\n",
    "regulated range. We will assume that the fan's head does not change in\n",
    "the redesign."
   ]
  },
  {
   "cell_type": "markdown",
   "metadata": {},
   "source": [
    "First, let's put in the parameters. We treat the gas as air, since any noxious\n",
    "gas species are assumed to be at low concentrations.\n",
    "\n",
    "Galvanized iron has a typical roughness of 0.0005 ft."
   ]
  },
  {
   "cell_type": "code",
   "execution_count": 2,
   "metadata": {},
   "outputs": [
    {
     "data": {
      "text/plain": [
       "Gravity = 9.80665 m s⁻²"
      ]
     },
     "execution_count": 2,
     "metadata": {},
     "output_type": "execute_result"
    }
   ],
   "source": [
    "Q0 = VolumeFlowRate(9u\"ft^3/s\")\n",
    "KL0 = 5\n",
    "D = Diameter(8u\"inch\")\n",
    "μ = Viscosity(Air)\n",
    "ρ = Density(Air)\n",
    "ϵ = Height(0.0005u\"ft\")\n",
    "g = Gravity()"
   ]
  },
  {
   "cell_type": "markdown",
   "metadata": {},
   "source": [
    "Now let's calculate the flow velocity in the original design"
   ]
  },
  {
   "cell_type": "code",
   "execution_count": 4,
   "metadata": {},
   "outputs": [
    {
     "data": {
      "text/plain": [
       "25.783100780887047 ft s⁻¹"
      ]
     },
     "execution_count": 4,
     "metadata": {},
     "output_type": "execute_result"
    }
   ],
   "source": [
    "A = Area(π/4*D^2)\n",
    "V0 = Velocity(Q0/A)\n",
    "value(V0,u\"ft/s\")"
   ]
  },
  {
   "cell_type": "code",
   "execution_count": 12,
   "metadata": {},
   "outputs": [
    {
     "data": {
      "text/plain": [
       "2.3391686341128144e-5 slug ft⁻¹ s⁻¹"
      ]
     },
     "execution_count": 12,
     "metadata": {},
     "output_type": "execute_result"
    }
   ],
   "source": [
    "value(Viscosity(Water),u\"slug/ft/s\")"
   ]
  },
  {
   "cell_type": "markdown",
   "metadata": {},
   "source": [
    "And now, we can calculate the fan head $h_p$, since this is equal\n",
    "to the kinetic energy of the exiting flow plus the head loss. (Pressures\n",
    "are equal and ambient in the fume hood and at the exit, and elevation\n",
    "changes are negligible.\n",
    "\n",
    "$$h_p = \\dfrac{V^2}{2g} + K_L\\dfrac{V^2}{2g}$$"
   ]
  },
  {
   "cell_type": "code",
   "execution_count": 4,
   "metadata": {},
   "outputs": [
    {
     "data": {
      "text/plain": [
       "61.9848899069789 ft"
      ]
     },
     "execution_count": 4,
     "metadata": {},
     "output_type": "execute_result"
    }
   ],
   "source": [
    "hp = Head((KL0+1)*V0^2/(2*g))\n",
    "value(hp,u\"ft\")"
   ]
  },
  {
   "cell_type": "markdown",
   "metadata": {},
   "source": [
    "Now we will analyze the modified system. We add 100 ft of duct after the\n",
    "fan and increase the loss coefficient to 10:"
   ]
  },
  {
   "cell_type": "code",
   "execution_count": 5,
   "metadata": {},
   "outputs": [
    {
     "data": {
      "text/plain": [
       "10.0"
      ]
     },
     "execution_count": 5,
     "metadata": {},
     "output_type": "execute_result"
    }
   ],
   "source": [
    "L = Length(100u\"ft\")\n",
    "KL = 10.0"
   ]
  },
  {
   "cell_type": "markdown",
   "metadata": {},
   "source": [
    "The energy equation now becomes\n",
    "\n",
    "$$h_p = \\dfrac{V^2}{2g} + K_L\\dfrac{V^2}{2g} + \\dfrac{fL}{D}\\dfrac{V^2}{2g}$$\n",
    "\n",
    "The unknown in this equation is $V$, but $f$ (the friction factor) is also\n",
    "unknown. Let's solve for $V$, pretending that we know $f$:\n",
    "\n",
    "$$V = \\left(\\dfrac{2gh_p}{1 + K_L + fL/D}\\right)^{1/2}$$\n",
    "\n",
    "To get $f$, we need Reynolds number and roughness coefficient.\n",
    "And to get Reynolds number, we need $V$. So, we clearly must iterate.\n",
    "\n",
    "Our approach will be\n",
    "0. Guess a value for $f$, based on $\\epsilon/D$ and a Reynolds number close to $\\infty$.\n",
    "1. Calculate $V$ from the energy equation with the current guess of $f$.\n",
    "2. Calculate $Re_D = \\rho V D/\\mu$ from $V$.\n",
    "3. Calculate a new value of $f$. Check if it is equal to the guess used in 1. If\n",
    "yes, we stop. If not, then return to step 1 with this $f$ as our new guess.\n",
    "\n",
    "Let's prepare ourselves for this iteration by defining some equations. The\n",
    "roughness coefficient:"
   ]
  },
  {
   "cell_type": "code",
   "execution_count": 6,
   "metadata": {},
   "outputs": [
    {
     "data": {
      "text/plain": [
       "RoughnessCoefficient = 0.0007500000000000001"
      ]
     },
     "execution_count": 6,
     "metadata": {},
     "output_type": "execute_result"
    }
   ],
   "source": [
    "eD = RoughnessCoefficient(ϵ/D)"
   ]
  },
  {
   "cell_type": "markdown",
   "metadata": {},
   "source": [
    "Here is $V$ as a function of $f$ (and the other quantities, which don't change)."
   ]
  },
  {
   "cell_type": "code",
   "execution_count": 7,
   "metadata": {},
   "outputs": [
    {
     "data": {
      "text/plain": [
       "Vfromf (generic function with 1 method)"
      ]
     },
     "execution_count": 7,
     "metadata": {},
     "output_type": "execute_result"
    }
   ],
   "source": [
    "Vfromf(f) = Velocity(sqrt(2*g*hp/(1+KL+f*L/D)))"
   ]
  },
  {
   "cell_type": "markdown",
   "metadata": {},
   "source": [
    "Here is $Re_D$ as a function of $V$ (and other quantities that don't change)"
   ]
  },
  {
   "cell_type": "code",
   "execution_count": 8,
   "metadata": {},
   "outputs": [
    {
     "data": {
      "text/plain": [
       "ReD (generic function with 1 method)"
      ]
     },
     "execution_count": 8,
     "metadata": {},
     "output_type": "execute_result"
    }
   ],
   "source": [
    "ReD(V) = ReynoldsNumber(ρ*V*D/μ)"
   ]
  },
  {
   "cell_type": "markdown",
   "metadata": {},
   "source": [
    "To do the iteration, we will define a simple function that takes in\n",
    "an initial guess for $f$, iterates using the procedure above, and then returns\n",
    "the correct value.\n",
    "\n",
    "In the function, we create a quantity `f_old`, which simply hold our old guess\n",
    "for $f$, and `f` will hold our next guess. We will compare these in each iteration,\n",
    "checking whether they are nearlyequal. We'll say they're equal if they are closer\n",
    "than $10^{-8}$. To ensure that the test fails at first, we initialize `f_old` to\n",
    "infinity. This will force it to proceed into the iteration loop:"
   ]
  },
  {
   "cell_type": "code",
   "execution_count": 9,
   "metadata": {},
   "outputs": [
    {
     "data": {
      "text/plain": [
       "iterate_f (generic function with 1 method)"
      ]
     },
     "execution_count": 9,
     "metadata": {},
     "output_type": "execute_result"
    }
   ],
   "source": [
    "function iterate_f(f0::FrictionFactor)\n",
    "  f = f0\n",
    "  f_old = Inf\n",
    "  while abs(f - f_old) > 1e-8\n",
    "      f_old = f\n",
    "      f = FrictionFactor(ReD(Vfromf(f_old)),eD)\n",
    "  end\n",
    "  return f\n",
    "end"
   ]
  },
  {
   "cell_type": "markdown",
   "metadata": {},
   "source": [
    "Now, to get $f$ from $Re_D$ and $\\epsilon/D$, we use the function\n",
    "`FrictionFactor(Re,eD)`, which solves the Colebrook equation for $f$.\n",
    "Here, we use it to find our initial guess for $f$, treating $Re_D$ as very large."
   ]
  },
  {
   "cell_type": "code",
   "execution_count": 10,
   "metadata": {},
   "outputs": [
    {
     "data": {
      "text/plain": [
       "FrictionFactor = 0.02220131488015882"
      ]
     },
     "execution_count": 10,
     "metadata": {},
     "output_type": "execute_result"
    }
   ],
   "source": [
    "f0 = FrictionFactor(ReynoldsNumber(1e10),eD)\n",
    "\n",
    "f = iterate_f(f0)"
   ]
  },
  {
   "cell_type": "markdown",
   "metadata": {},
   "source": [
    "We converged on the final $f$ value! The actual velocity is thus"
   ]
  },
  {
   "cell_type": "code",
   "execution_count": 11,
   "metadata": {},
   "outputs": [
    {
     "data": {
      "text/plain": [
       "16.683404799613992 ft s⁻¹"
      ]
     },
     "execution_count": 11,
     "metadata": {},
     "output_type": "execute_result"
    }
   ],
   "source": [
    "V = Vfromf(f)\n",
    "value(Vfromf(f),u\"ft/s\")"
   ]
  },
  {
   "cell_type": "markdown",
   "metadata": {},
   "source": [
    "And the final Reynolds number is"
   ]
  },
  {
   "cell_type": "code",
   "execution_count": 12,
   "metadata": {},
   "outputs": [
    {
     "data": {
      "text/plain": [
       "ReynoldsNumber = 70727.19174029546"
      ]
     },
     "execution_count": 12,
     "metadata": {},
     "output_type": "execute_result"
    }
   ],
   "source": [
    "ReD(V)"
   ]
  },
  {
   "cell_type": "markdown",
   "metadata": {},
   "source": [
    "And finally, the volume flow rate after making the change to the setup is"
   ]
  },
  {
   "cell_type": "code",
   "execution_count": 13,
   "metadata": {},
   "outputs": [
    {
     "data": {
      "text/plain": [
       "5.8236068839257795 ft³ s⁻¹"
      ]
     },
     "execution_count": 13,
     "metadata": {},
     "output_type": "execute_result"
    }
   ],
   "source": [
    "Q = VolumeFlowRate(V*A)\n",
    "value(Q,u\"ft^3/s\")"
   ]
  },
  {
   "cell_type": "markdown",
   "metadata": {},
   "source": [
    "So this shows that the flow rate is too small to meet the specifications.\n",
    "We would need to decrease the length, $L$, or reduce the losses in $K_L$\n",
    "to make it meet the specifications."
   ]
  },
  {
   "cell_type": "markdown",
   "metadata": {},
   "source": [
    "---\n",
    "\n",
    "*This notebook was generated using [Literate.jl](https://github.com/fredrikekre/Literate.jl).*"
   ]
  }
 ],
 "metadata": {
  "kernelspec": {
   "display_name": "Julia 1.6.0",
   "language": "julia",
   "name": "julia-1.6"
  },
  "language_info": {
   "file_extension": ".jl",
   "mimetype": "application/julia",
   "name": "julia",
   "version": "1.6.0"
  }
 },
 "nbformat": 4,
 "nbformat_minor": 3
}
