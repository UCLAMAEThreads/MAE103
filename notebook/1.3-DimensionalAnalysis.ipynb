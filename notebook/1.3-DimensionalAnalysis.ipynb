{
 "cells": [
  {
   "cell_type": "markdown",
   "metadata": {},
   "source": [
    "<img src=\"https://raw.githubusercontent.com/UCLAMAEThreads/MAE103/main/notebook/logo_UCLA_blue_boxed.svg\" alt=\"ucla logo\" width=\"150\" align=\"left\"/>"
   ]
  },
  {
   "cell_type": "markdown",
   "metadata": {},
   "source": [
    "### **MAE 103 - Elementary Fluid Mechanics**\n",
    "<hr />"
   ]
  },
  {
   "cell_type": "markdown",
   "metadata": {},
   "source": [
    "# Dimensional analysis example - pump flow\n",
    "In this example, we will find an appropriate set of dimensionless parameters that\n",
    "relate pressure increase across a pump to the flow rate through the pump. We start\n",
    "with the basic expectation that pressure increase $\\Delta p$ should depend on $D$\n",
    "(the diameter of the pump), $\\rho$ (the fluid density), $\\omega$ (the rotational speed),\n",
    "and $Q$ (the volume flow rate)\n",
    "\n",
    "$$\\Delta p = f(D,\\rho,\\omega,Q)$$"
   ]
  },
  {
   "cell_type": "markdown",
   "metadata": {},
   "source": [
    "### Set up the module"
   ]
  },
  {
   "cell_type": "code",
   "execution_count": 1,
   "metadata": {},
   "outputs": [],
   "source": [
    "using MAE103"
   ]
  },
  {
   "cell_type": "code",
   "execution_count": 2,
   "metadata": {},
   "outputs": [],
   "source": [
    "using Plots\n",
    "using Serialization # to read/write data"
   ]
  },
  {
   "cell_type": "markdown",
   "metadata": {},
   "source": [
    "### Read in some raw data\n",
    "First, we will read in some raw experimental data for a pump of diameter 12 in.\n",
    "These data give the measured pressure rise (as *head increase*, $h_p$, units of meters)\n",
    "vs volume flow rate (in units of cubic meters per second).\n",
    "\n",
    "We will load in data for pump speeds of 250, 500 and 1000 rpm. For later convenience,\n",
    "we will put all of these data into one data structure called `pumpdata`."
   ]
  },
  {
   "cell_type": "code",
   "execution_count": 3,
   "metadata": {},
   "outputs": [
    {
     "data": {
      "text/plain": [
       "Dict{String, Dict{String, Vector{T} where T}} with 3 entries:\n",
       "  \"500rpm\"  => Dict(\"Q\"=>Unitful.Quantity{Float64, 𝐋³ 𝐓⁻¹, Unitful.FreeUnits{(m…\n",
       "  \"1000rpm\" => Dict(\"Q\"=>Unitful.Quantity{Float64, 𝐋³ 𝐓⁻¹, Unitful.FreeUnits{(m…\n",
       "  \"250rpm\"  => Dict(\"Q\"=>Unitful.Quantity{Float64, 𝐋³ 𝐓⁻¹, Unitful.FreeUnits{(m…"
      ]
     },
     "execution_count": 3,
     "metadata": {},
     "output_type": "execute_result"
    }
   ],
   "source": [
    "pumpdata = deserialize(\"pumpdata.jls\")"
   ]
  },
  {
   "cell_type": "markdown",
   "metadata": {},
   "source": [
    "The data are in the form of a `Dict` (short for dictionary). For example,\n",
    "to get the flow rates for speed 500 rpm,"
   ]
  },
  {
   "cell_type": "code",
   "execution_count": 4,
   "metadata": {},
   "outputs": [
    {
     "data": {
      "text/plain": [
       "8-element Vector{Unitful.Quantity{Float64, 𝐋³ 𝐓⁻¹, Unitful.FreeUnits{(m³, s⁻¹), 𝐋³ 𝐓⁻¹, nothing}}}:\n",
       "                  0.0 m³ s⁻¹\n",
       " 0.020969142203331865 m³ s⁻¹\n",
       "  0.04193828440666373 m³ s⁻¹\n",
       "  0.06290742660999558 m³ s⁻¹\n",
       "  0.08387656881332746 m³ s⁻¹\n",
       "  0.10484571101665932 m³ s⁻¹\n",
       "  0.12581485321999117 m³ s⁻¹\n",
       "  0.14678399542332304 m³ s⁻¹"
      ]
     },
     "execution_count": 4,
     "metadata": {},
     "output_type": "execute_result"
    }
   ],
   "source": [
    "Q500 = pumpdata[\"500rpm\"][\"Q\"]"
   ]
  },
  {
   "cell_type": "markdown",
   "metadata": {},
   "source": [
    "and the associated head increases are"
   ]
  },
  {
   "cell_type": "code",
   "execution_count": 5,
   "metadata": {},
   "outputs": [
    {
     "data": {
      "text/plain": [
       "8-element Vector{Unitful.Quantity{Float64, 𝐋, Unitful.FreeUnits{(m,), 𝐋, nothing}}}:\n",
       "  5.664863501386198 m\n",
       "  5.678840855291137 m\n",
       "  5.647258945899934 m\n",
       "  5.657487429925689 m\n",
       "  5.246758181966145 m\n",
       "  4.755642659695044 m\n",
       "  3.671452441175552 m\n",
       " 0.9659942449994097 m"
      ]
     },
     "execution_count": 5,
     "metadata": {},
     "output_type": "execute_result"
    }
   ],
   "source": [
    "h500 = pumpdata[\"500rpm\"][\"head\"]"
   ]
  },
  {
   "cell_type": "markdown",
   "metadata": {},
   "source": [
    "To convert the flow rate data to gallons/minute (gpm), for example"
   ]
  },
  {
   "cell_type": "code",
   "execution_count": 6,
   "metadata": {},
   "outputs": [
    {
     "data": {
      "text/plain": [
       "8-element Vector{Unitful.Quantity{Float64, 𝐋³ 𝐓⁻¹, Unitful.FreeUnits{(minute⁻¹, gal), 𝐋³ 𝐓⁻¹, nothing}}}:\n",
       "                0.0 gal minute⁻¹\n",
       "  332.3676799226427 gal minute⁻¹\n",
       "  664.7353598452854 gal minute⁻¹\n",
       "   997.103039767928 gal minute⁻¹\n",
       " 1329.4707196905708 gal minute⁻¹\n",
       " 1661.8383996132134 gal minute⁻¹\n",
       "  1994.206079535856 gal minute⁻¹\n",
       "  2326.573759458499 gal minute⁻¹"
      ]
     },
     "execution_count": 6,
     "metadata": {},
     "output_type": "execute_result"
    }
   ],
   "source": [
    "value.(VolumeFlowRate.(Q500),u\"gal/minute\")"
   ]
  },
  {
   "cell_type": "markdown",
   "metadata": {},
   "source": [
    "or head increase to ft"
   ]
  },
  {
   "cell_type": "code",
   "execution_count": 7,
   "metadata": {},
   "outputs": [
    {
     "data": {
      "text/plain": [
       "8-element Vector{Unitful.Quantity{Float64, 𝐋, Unitful.FreeUnits{(ft,), 𝐋, nothing}}}:\n",
       "  18.58551017515157 ft\n",
       "  18.63136763546961 ft\n",
       " 18.527752447178262 ft\n",
       " 18.561310465635465 ft\n",
       " 17.213773562881055 ft\n",
       "  15.60250216435382 ft\n",
       " 12.045447641652073 ft\n",
       " 3.1692724573471445 ft"
      ]
     },
     "execution_count": 7,
     "metadata": {},
     "output_type": "execute_result"
    }
   ],
   "source": [
    "value.(Head.(h500),u\"ft\")"
   ]
  },
  {
   "cell_type": "markdown",
   "metadata": {},
   "source": [
    "Let's plot this data"
   ]
  },
  {
   "cell_type": "code",
   "execution_count": 8,
   "metadata": {},
   "outputs": [
    {
     "data": {
      "image/png": "[encoded data removed]"
     },
     "execution_count": 8,
     "metadata": {},
     "output_type": "execute_result"
    }
   ],
   "source": [
    "scatter(xlabel=L\"$Q$\",ylabel=L\"$h$\",legend=true,xlims=(0,Inf),ylims=(0,Inf))\n",
    "scatter!(pumpdata[\"250rpm\"][\"Q\"],pumpdata[\"250rpm\"][\"head\"],label=\"250 rpm\")\n",
    "scatter!(pumpdata[\"500rpm\"][\"Q\"],pumpdata[\"500rpm\"][\"head\"],label=\"500 rpm\")\n",
    "scatter!(pumpdata[\"1000rpm\"][\"Q\"],pumpdata[\"1000rpm\"][\"head\"],label=\"1000 rpm\")"
   ]
  },
  {
   "cell_type": "markdown",
   "metadata": {},
   "source": [
    "The data don't appear very similar to each other, except for a rough shape.\n",
    "And more importantly, these are only curves for three pump speeds. What if\n",
    "we want to predict the performance at, say, 700 rpm?"
   ]
  },
  {
   "cell_type": "markdown",
   "metadata": {},
   "source": [
    "### Find a suitable set of dimensionless parameters ($\\Pi$ groups)\n",
    "Here, we should think of $\\Delta p$ as the dependent variable and $Q$ as the\n",
    "independent variable -- this is what defines a pump's characteristics. The other\n",
    "quantities are the reference quantities. It is straightforward to come up with the\n",
    "$\\Pi$ groups:\n",
    "\n",
    "$$\\dfrac{\\Delta p}{\\rho \\omega^2 D^2} = f \\left( \\dfrac{Q}{\\omega D^3} \\right)$$"
   ]
  },
  {
   "cell_type": "markdown",
   "metadata": {},
   "source": [
    "### Rewrite the first $\\Pi$ group in terms of the pump's head gain, $h_p$.\n",
    "From the energy equation, $h_p + p_1/\\rho g = p_2/\\rho g$, where $\\Delta p = p_2 - p_1$.\n",
    "Thus, we can rewrite the first $\\Pi$ group in terms of $h_p$, so that the relationship is\n",
    "\n",
    "$$\\dfrac{g h_p}{\\omega^2 D^2} = f \\left( \\dfrac{Q}{\\omega D^3} \\right)$$\n",
    "\n",
    "The dimensionless flow rate is called the *flow coefficient*, and the\n",
    "dimensionless head is called the *head rise coefficient*."
   ]
  },
  {
   "cell_type": "markdown",
   "metadata": {},
   "source": [
    "### Calculate the $\\Pi$ groups and plot them on the same plot\n",
    "We will now use the raw dimensional data in `pumpdata` to calculate the\n",
    "$\\Pi$ groups. We set the basic parameters here:"
   ]
  },
  {
   "cell_type": "code",
   "execution_count": 4,
   "metadata": {},
   "outputs": [
    {
     "data": {
      "text/plain": [
       "1 ge"
      ]
     },
     "execution_count": 4,
     "metadata": {},
     "output_type": "execute_result"
    }
   ],
   "source": [
    "D = 12u\"inch\"\n",
    "g = 1u\"ge\" # This is Earth's gravitation constant"
   ]
  },
  {
   "cell_type": "markdown",
   "metadata": {},
   "source": [
    "So, let's say we want to calculate the flow coefficient at 250 rpm:"
   ]
  },
  {
   "cell_type": "code",
   "execution_count": 5,
   "metadata": {},
   "outputs": [
    {
     "data": {
      "text/plain": [
       "8-element Vector{Unitful.Quantity{Float64, NoDims, Unitful.FreeUnits{(inch⁻³, m³, rpm⁻¹, s⁻¹), NoDims, nothing}}}:\n",
       "                   0.0 m³ inch⁻³ rpm⁻¹ s⁻¹\n",
       " 2.4269840513115586e-8 m³ inch⁻³ rpm⁻¹ s⁻¹\n",
       "  4.853968102623117e-8 m³ inch⁻³ rpm⁻¹ s⁻¹\n",
       "  7.280952153934674e-8 m³ inch⁻³ rpm⁻¹ s⁻¹\n",
       "  9.707936205246234e-8 m³ inch⁻³ rpm⁻¹ s⁻¹\n",
       " 1.2134920256557793e-7 m³ inch⁻³ rpm⁻¹ s⁻¹\n",
       "  1.456190430786935e-7 m³ inch⁻³ rpm⁻¹ s⁻¹\n",
       " 1.6988888359180908e-7 m³ inch⁻³ rpm⁻¹ s⁻¹"
      ]
     },
     "execution_count": 5,
     "metadata": {},
     "output_type": "execute_result"
    }
   ],
   "source": [
    "omega = 250u\"rpm\"\n",
    "pumpdata[\"250rpm\"][\"Q\"]/(omega*D^3)"
   ]
  },
  {
   "cell_type": "markdown",
   "metadata": {},
   "source": [
    "It looks like the data have units! But on closer inspection, they are\n",
    "actually units that will cancel (with appropriate conversions). We can make that\n",
    "happen by using the `DimensionlessParameter` function. (We use this in\n",
    "vectorized form on each element in the array.) We'll assign the result to\n",
    "a new key in the `Dict`, called `Q_nd`:"
   ]
  },
  {
   "cell_type": "code",
   "execution_count": 6,
   "metadata": {},
   "outputs": [
    {
     "data": {
      "text/plain": [
       "8-element Vector{DimensionlessParameter{Float64}}:\n",
       "                  DimensionlessParameter = 0.0\n",
       " DimensionlessParameter = 0.014142857142857148\n",
       " DimensionlessParameter = 0.028285714285714296\n",
       "  DimensionlessParameter = 0.04242857142857144\n",
       "  DimensionlessParameter = 0.05657142857142859\n",
       "  DimensionlessParameter = 0.07071428571428574\n",
       "  DimensionlessParameter = 0.08485714285714288\n",
       "  DimensionlessParameter = 0.09900000000000002"
      ]
     },
     "execution_count": 6,
     "metadata": {},
     "output_type": "execute_result"
    }
   ],
   "source": [
    "pumpdata[\"250rpm\"][\"Q_nd\"] = DimensionlessParameter.(pumpdata[\"250rpm\"][\"Q\"]/(omega*D^3))"
   ]
  },
  {
   "cell_type": "markdown",
   "metadata": {},
   "source": [
    "Similarly for the head rise coefficient, which we call head_nd here:"
   ]
  },
  {
   "cell_type": "code",
   "execution_count": 7,
   "metadata": {},
   "outputs": [
    {
     "data": {
      "text/plain": [
       "8-element Vector{DimensionlessParameter{Float64}}:\n",
       "  DimensionlessParameter = 0.2173259081252995\n",
       "  DimensionlessParameter = 0.2152805295233134\n",
       "   DimensionlessParameter = 0.224800621066501\n",
       " DimensionlessParameter = 0.21258778580206716\n",
       "  DimensionlessParameter = 0.2057217519095057\n",
       "   DimensionlessParameter = 0.186696579688181\n",
       " DimensionlessParameter = 0.14924825003231526\n",
       " DimensionlessParameter = 0.04538770236883956"
      ]
     },
     "execution_count": 7,
     "metadata": {},
     "output_type": "execute_result"
    }
   ],
   "source": [
    "pumpdata[\"250rpm\"][\"head_nd\"] = DimensionlessParameter.(pumpdata[\"250rpm\"][\"head\"]*g/(omega^2*D^2))"
   ]
  },
  {
   "cell_type": "markdown",
   "metadata": {},
   "source": [
    "Let's do the same at 500 and 1000 rpm"
   ]
  },
  {
   "cell_type": "code",
   "execution_count": 8,
   "metadata": {},
   "outputs": [],
   "source": [
    "omega = 500u\"rpm\"\n",
    "pumpdata[\"500rpm\"][\"Q_nd\"] = DimensionlessParameter.(pumpdata[\"500rpm\"][\"Q\"]/(omega*D^3))\n",
    "pumpdata[\"500rpm\"][\"head_nd\"] = DimensionlessParameter.(pumpdata[\"500rpm\"][\"head\"]*g/(omega^2*D^2));"
   ]
  },
  {
   "cell_type": "code",
   "execution_count": 9,
   "metadata": {},
   "outputs": [],
   "source": [
    "omega = 1000u\"rpm\"\n",
    "pumpdata[\"1000rpm\"][\"Q_nd\"] = DimensionlessParameter.(pumpdata[\"1000rpm\"][\"Q\"]/(omega*D^3))\n",
    "pumpdata[\"1000rpm\"][\"head_nd\"] = DimensionlessParameter.(pumpdata[\"1000rpm\"][\"head\"]*g/(omega^2*D^2));"
   ]
  },
  {
   "cell_type": "markdown",
   "metadata": {},
   "source": [
    "Now plot these"
   ]
  },
  {
   "cell_type": "code",
   "execution_count": 10,
   "metadata": {},
   "outputs": [
    {
     "data": {
      "image/png": "[encoded data removed]"
     },
     "execution_count": 10,
     "metadata": {},
     "output_type": "execute_result"
    }
   ],
   "source": [
    "scatter(xlabel=L\"$Q/\\omega D^3$\",ylabel=L\"$gh/\\omega^2 D^2$\",legend=:bottomleft,xlims=(0,0.1),ylims=(0,0.25))\n",
    "scatter!(pumpdata[\"250rpm\"][\"Q_nd\"],pumpdata[\"250rpm\"][\"head_nd\"],label=\"250 rpm\")\n",
    "scatter!(pumpdata[\"500rpm\"][\"Q_nd\"],pumpdata[\"500rpm\"][\"head_nd\"],label=\"500 rpm\")\n",
    "scatter!(pumpdata[\"1000rpm\"][\"Q_nd\"],pumpdata[\"1000rpm\"][\"head_nd\"],label=\"1000 rpm\")"
   ]
  },
  {
   "cell_type": "markdown",
   "metadata": {},
   "source": [
    "The data collapse onto a single curve. This reveals the power of dimensional\n",
    "analysis! One would follow up by generating a statistical correlation\n",
    "between the two dimensionless parameters. Then, we could use this correlation\n",
    "to predict performance at any pump speed or pump diameter!"
   ]
  },
  {
   "cell_type": "code",
   "execution_count": 16,
   "metadata": {},
   "outputs": [],
   "source": [
    "#savefig(\"pumpplot.pdf\")"
   ]
  },
  {
   "cell_type": "markdown",
   "metadata": {},
   "source": [
    "---\n",
    "\n",
    "*This notebook was generated using [Literate.jl](https://github.com/fredrikekre/Literate.jl).*"
   ]
  }
 ],
 "metadata": {
  "kernelspec": {
   "display_name": "Julia 1.6.0",
   "language": "julia",
   "name": "julia-1.6"
  },
  "language_info": {
   "file_extension": ".jl",
   "mimetype": "application/julia",
   "name": "julia",
   "version": "1.6.0"
  }
 },
 "nbformat": 4,
 "nbformat_minor": 3
}
