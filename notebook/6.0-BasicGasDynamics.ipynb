{
 "cells": [
  {
   "cell_type": "markdown",
   "metadata": {},
   "source": [
    "<img src=\"https://raw.githubusercontent.com/UCLAMAEThreads/MAE103/main/notebook/logo_UCLA_blue_boxed.svg\" alt=\"ucla logo\" width=\"150\" align=\"left\"/>"
   ]
  },
  {
   "cell_type": "markdown",
   "metadata": {},
   "source": [
    "### **MAE 103 - Elementary Fluid Mechanics**\n",
    "<hr />"
   ]
  },
  {
   "cell_type": "markdown",
   "metadata": {},
   "source": [
    "# Basic Tools for Quasi-1D Steady Compressible Flow\n",
    "This notebook demonstrates the basic syntax for some tools for computing\n",
    "quasi-1d steady compressible flow."
   ]
  },
  {
   "cell_type": "markdown",
   "metadata": {},
   "source": [
    "### Set up the module"
   ]
  },
  {
   "cell_type": "code",
   "execution_count": 1,
   "metadata": {},
   "outputs": [],
   "source": [
    "using MAE103"
   ]
  },
  {
   "cell_type": "markdown",
   "metadata": {},
   "source": [
    "### Setting basic properties and states\n",
    "We can set thermodynamic properties and states in a straightforward manner.\n",
    "However, it is important to remember that we have to explicitly define the\n",
    "type of property or state we are setting. Examples below will show how this works."
   ]
  },
  {
   "cell_type": "markdown",
   "metadata": {},
   "source": [
    "Let's say we wish to set the pressure to 10000 Pa. Pascals are the default units\n",
    "of pressure, as can be verified by using the `default_unit` function:"
   ]
  },
  {
   "cell_type": "code",
   "execution_count": 2,
   "metadata": {},
   "outputs": [
    {
     "data": {
      "text/plain": [
       "Pa"
      ]
     },
     "execution_count": 2,
     "metadata": {},
     "output_type": "execute_result"
    }
   ],
   "source": [
    "default_unit(Pressure)"
   ]
  },
  {
   "cell_type": "markdown",
   "metadata": {},
   "source": [
    "So if we do not specify the unit, it is **automatically set to the default unit**:"
   ]
  },
  {
   "cell_type": "code",
   "execution_count": 3,
   "metadata": {},
   "outputs": [
    {
     "data": {
      "text/plain": [
       "Pressure = 10000.0 Pa"
      ]
     },
     "execution_count": 3,
     "metadata": {},
     "output_type": "execute_result"
    }
   ],
   "source": [
    "Pressure(10000)"
   ]
  },
  {
   "cell_type": "markdown",
   "metadata": {},
   "source": [
    "We can set a quantity with another unit using the syntax u\"[unit]\". For example,\n",
    "if we set pressure to 1 atm, it will still convert it to the default\n",
    "unit."
   ]
  },
  {
   "cell_type": "code",
   "execution_count": 4,
   "metadata": {},
   "outputs": [
    {
     "data": {
      "text/plain": [
       "Pressure = 101325.0 Pa"
      ]
     },
     "execution_count": 4,
     "metadata": {},
     "output_type": "execute_result"
    }
   ],
   "source": [
    "p = Pressure(1u\"atm\")"
   ]
  },
  {
   "cell_type": "markdown",
   "metadata": {},
   "source": [
    "However, we can always report the quantity in some desired units with the `value`\n",
    "function:"
   ]
  },
  {
   "cell_type": "code",
   "execution_count": 5,
   "metadata": {},
   "outputs": [
    {
     "data": {
      "text/plain": [
       "1.0 atm"
      ]
     },
     "execution_count": 5,
     "metadata": {},
     "output_type": "execute_result"
    }
   ],
   "source": [
    "value(p,u\"atm\")"
   ]
  },
  {
   "cell_type": "code",
   "execution_count": 6,
   "metadata": {},
   "outputs": [
    {
     "data": {
      "text/plain": [
       "14.695948775513449 psi"
      ]
     },
     "execution_count": 6,
     "metadata": {},
     "output_type": "execute_result"
    }
   ],
   "source": [
    "value(p,u\"psi\")"
   ]
  },
  {
   "cell_type": "code",
   "execution_count": 7,
   "metadata": {},
   "outputs": [
    {
     "data": {
      "text/plain": [
       "101.325 kPa"
      ]
     },
     "execution_count": 7,
     "metadata": {},
     "output_type": "execute_result"
    }
   ],
   "source": [
    "value(p,u\"kPa\")"
   ]
  },
  {
   "cell_type": "markdown",
   "metadata": {},
   "source": [
    "#### Other thermodynamic quantities\n",
    "We can set most any other thermodynamic quantity in similar fashion:"
   ]
  },
  {
   "cell_type": "code",
   "execution_count": 8,
   "metadata": {},
   "outputs": [
    {
     "data": {
      "text/plain": [
       "Temperature = 293.15 K"
      ]
     },
     "execution_count": 8,
     "metadata": {},
     "output_type": "execute_result"
    }
   ],
   "source": [
    "T = Temperature(20u\"°C\")"
   ]
  },
  {
   "cell_type": "code",
   "execution_count": 5,
   "metadata": {},
   "outputs": [
    {
     "data": {
      "text/plain": [
       "StagnationTemperature = 20.0 K"
      ]
     },
     "execution_count": 5,
     "metadata": {},
     "output_type": "execute_result"
    }
   ],
   "source": [
    "T0 = StagnationTemperature(20)"
   ]
  },
  {
   "cell_type": "code",
   "execution_count": 6,
   "metadata": {},
   "outputs": [
    {
     "data": {
      "text/plain": [
       "MachNumber = 2.0"
      ]
     },
     "execution_count": 6,
     "metadata": {},
     "output_type": "execute_result"
    }
   ],
   "source": [
    "MachNumber(2.0)"
   ]
  },
  {
   "cell_type": "code",
   "execution_count": 7,
   "metadata": {},
   "outputs": [
    {
     "data": {
      "text/plain": [
       "Enthalpy = 50.0 J kg⁻¹"
      ]
     },
     "execution_count": 7,
     "metadata": {},
     "output_type": "execute_result"
    }
   ],
   "source": [
    "Enthalpy(50)"
   ]
  },
  {
   "cell_type": "code",
   "execution_count": 8,
   "metadata": {},
   "outputs": [
    {
     "data": {
      "text/plain": [
       "Entropy = 10.0 J kg⁻¹ K⁻¹"
      ]
     },
     "execution_count": 8,
     "metadata": {},
     "output_type": "execute_result"
    }
   ],
   "source": [
    "Entropy(10)"
   ]
  },
  {
   "cell_type": "code",
   "execution_count": 9,
   "metadata": {},
   "outputs": [
    {
     "data": {
      "text/plain": [
       "Area = 0.005 m²"
      ]
     },
     "execution_count": 9,
     "metadata": {},
     "output_type": "execute_result"
    }
   ],
   "source": [
    "Area(50u\"cm^2\")"
   ]
  },
  {
   "cell_type": "code",
   "execution_count": 14,
   "metadata": {},
   "outputs": [
    {
     "data": {
      "text/plain": [
       "Length = 5.0 m"
      ]
     },
     "execution_count": 14,
     "metadata": {},
     "output_type": "execute_result"
    }
   ],
   "source": [
    "Length(5)"
   ]
  },
  {
   "cell_type": "markdown",
   "metadata": {},
   "source": [
    "and others..."
   ]
  },
  {
   "cell_type": "markdown",
   "metadata": {},
   "source": [
    "#### Gas properties\n",
    "We can set the properties of the gas that we are analyzing. (Note: It is\n",
    "assumed that the gas is perfect.)"
   ]
  },
  {
   "cell_type": "code",
   "execution_count": 10,
   "metadata": {},
   "outputs": [
    {
     "data": {
      "text/plain": [
       "SpecificHeatRatio = 1.3"
      ]
     },
     "execution_count": 10,
     "metadata": {},
     "output_type": "execute_result"
    }
   ],
   "source": [
    "SpecificHeatRatio(1.3)"
   ]
  },
  {
   "cell_type": "code",
   "execution_count": 11,
   "metadata": {},
   "outputs": [
    {
     "data": {
      "text/plain": [
       "GasConstant = 320.0 J kg⁻¹ K⁻¹"
      ]
     },
     "execution_count": 11,
     "metadata": {},
     "output_type": "execute_result"
    }
   ],
   "source": [
    "GasConstant(320)"
   ]
  },
  {
   "cell_type": "markdown",
   "metadata": {},
   "source": [
    "and we can define a gas with these values:"
   ]
  },
  {
   "cell_type": "code",
   "execution_count": 12,
   "metadata": {},
   "outputs": [
    {
     "data": {
      "text/plain": [
       "Perfect gas with\n",
       "   Density = 1.0988742842269652 kg m⁻³\n",
       "   Viscosity = 1.79e-5 kg m⁻¹ s⁻¹\n",
       "   Specific heat ratio = 1.3\n",
       "   Gas constant = 320.0 J kg⁻¹ K⁻¹\n",
       "   cp = 1386.6666666666665 J kg⁻¹ K⁻¹\n",
       "   cv = 1066.6666666666665 J kg⁻¹ K⁻¹\n",
       "   at reference temp 288.15 K\n"
      ]
     },
     "execution_count": 12,
     "metadata": {},
     "output_type": "execute_result"
    }
   ],
   "source": [
    "gas = PerfectGas(γ=SpecificHeatRatio(1.3),R=GasConstant(320))"
   ]
  },
  {
   "cell_type": "markdown",
   "metadata": {},
   "source": [
    "We have **pre-defined gases** (at standard conditions), as well, for convenience:"
   ]
  },
  {
   "cell_type": "code",
   "execution_count": 13,
   "metadata": {},
   "outputs": [
    {
     "data": {
      "text/plain": [
       "Perfect gas with\n",
       "   Density = 1.225225682761773 kg m⁻³\n",
       "   Viscosity = 1.79e-5 kg m⁻¹ s⁻¹\n",
       "   Specific heat ratio = 1.4\n",
       "   Gas constant = 287.0 J kg⁻¹ K⁻¹\n",
       "   cp = 1004.5000000000001 J kg⁻¹ K⁻¹\n",
       "   cv = 717.5000000000001 J kg⁻¹ K⁻¹\n",
       "   at reference temp 288.15 K\n"
      ]
     },
     "execution_count": 13,
     "metadata": {},
     "output_type": "execute_result"
    }
   ],
   "source": [
    "Air"
   ]
  },
  {
   "cell_type": "code",
   "execution_count": 14,
   "metadata": {},
   "outputs": [
    {
     "data": {
      "text/plain": [
       "Perfect gas with\n",
       "   Density = 0.1663929559017017 kg m⁻³\n",
       "   Viscosity = 1.94e-5 kg m⁻¹ s⁻¹\n",
       "   Specific heat ratio = 1.6666666666666667\n",
       "   Gas constant = 2077.26439404998 J kg⁻¹ K⁻¹\n",
       "   cp = 5193.160985124951 J kg⁻¹ K⁻¹\n",
       "   cv = 3115.8965910749703 J kg⁻¹ K⁻¹\n",
       "   at reference temp 293.15 K\n"
      ]
     },
     "execution_count": 14,
     "metadata": {},
     "output_type": "execute_result"
    }
   ],
   "source": [
    "He"
   ]
  },
  {
   "cell_type": "code",
   "execution_count": 15,
   "metadata": {},
   "outputs": [
    {
     "data": {
      "text/plain": [
       "Perfect gas with\n",
       "   Density = 1.330236729981785 kg m⁻³\n",
       "   Viscosity = 2.04e-5 kg m⁻¹ s⁻¹\n",
       "   Specific heat ratio = 1.395\n",
       "   Gas constant = 259.83507666343445 J kg⁻¹ K⁻¹\n",
       "   cp = 917.645397330357 J kg⁻¹ K⁻¹\n",
       "   cv = 657.8103206669226 J kg⁻¹ K⁻¹\n",
       "   at reference temp 293.15 K\n"
      ]
     },
     "execution_count": 15,
     "metadata": {},
     "output_type": "execute_result"
    }
   ],
   "source": [
    "O2"
   ]
  },
  {
   "cell_type": "code",
   "execution_count": 16,
   "metadata": {},
   "outputs": [
    {
     "data": {
      "text/plain": [
       "Perfect gas with\n",
       "   Density = 1.8295483760898261 kg m⁻³\n",
       "   Viscosity = 1.47e-5 kg m⁻¹ s⁻¹\n",
       "   Specific heat ratio = 1.289\n",
       "   Gas constant = 188.9221226574242 J kg⁻¹ K⁻¹\n",
       "   cp = 842.631889638131 J kg⁻¹ K⁻¹\n",
       "   cv = 653.7097669807068 J kg⁻¹ K⁻¹\n",
       "   at reference temp 293.15 K\n"
      ]
     },
     "execution_count": 16,
     "metadata": {},
     "output_type": "execute_result"
    }
   ],
   "source": [
    "CO2"
   ]
  },
  {
   "cell_type": "code",
   "execution_count": 17,
   "metadata": {},
   "outputs": [
    {
     "data": {
      "text/plain": [
       "Perfect gas with\n",
       "   Density = 0.08380753297425789 kg m⁻³\n",
       "   Viscosity = 8.84e-6 kg m⁻¹ s⁻¹\n",
       "   Specific heat ratio = 1.405\n",
       "   Gas constant = 4124.237409798234 J kg⁻¹ K⁻¹\n",
       "   cp = 14307.539656213627 J kg⁻¹ K⁻¹\n",
       "   cv = 10183.302246415391 J kg⁻¹ K⁻¹\n",
       "   at reference temp 293.15 K\n"
      ]
     },
     "execution_count": 17,
     "metadata": {},
     "output_type": "execute_result"
    }
   ],
   "source": [
    "H2"
   ]
  },
  {
   "cell_type": "code",
   "execution_count": 18,
   "metadata": {},
   "outputs": [
    {
     "data": {
      "text/plain": [
       "Perfect gas with\n",
       "   Density = 1.164550567569978 kg m⁻³\n",
       "   Viscosity = 1.76e-5 kg m⁻¹ s⁻¹\n",
       "   Specific heat ratio = 1.4\n",
       "   Gas constant = 296.80305204485137 J kg⁻¹ K⁻¹\n",
       "   cp = 1038.81068215698 J kg⁻¹ K⁻¹\n",
       "   cv = 742.0076301121286 J kg⁻¹ K⁻¹\n",
       "   at reference temp 293.15 K\n"
      ]
     },
     "execution_count": 18,
     "metadata": {},
     "output_type": "execute_result"
    }
   ],
   "source": [
    "N2"
   ]
  },
  {
   "cell_type": "code",
   "execution_count": 19,
   "metadata": {},
   "outputs": [
    {
     "data": {
      "text/plain": [
       "Perfect gas with\n",
       "   Density = 1.6227671732556135 kg m⁻³\n",
       "   Viscosity = 2.27e-5 kg m⁻¹ s⁻¹\n",
       "   Specific heat ratio = 1.6666666666666667\n",
       "   Gas constant = 208.1321372322329 J kg⁻¹ K⁻¹\n",
       "   cp = 520.3303430805823 J kg⁻¹ K⁻¹\n",
       "   cv = 312.1982058483494 J kg⁻¹ K⁻¹\n",
       "   at reference temp 300.0 K\n"
      ]
     },
     "execution_count": 19,
     "metadata": {},
     "output_type": "execute_result"
    }
   ],
   "source": [
    "Ar"
   ]
  },
  {
   "cell_type": "markdown",
   "metadata": {},
   "source": [
    "#### Equations of state\n",
    "We can apply the equation of state for a perfect gas to determine other quantities.\n",
    "For example, suppose we have carbon dioxide at 1.2 kg/m^3 and 80 kPa. What is the temperature?"
   ]
  },
  {
   "cell_type": "code",
   "execution_count": 23,
   "metadata": {},
   "outputs": [
    {
     "data": {
      "text/plain": [
       "Temperature = 232.28803716608596 K"
      ]
     },
     "execution_count": 23,
     "metadata": {},
     "output_type": "execute_result"
    }
   ],
   "source": [
    "T = Temperature(Density(1.2),Pressure(80u\"kPa\"),gas=Air)"
   ]
  },
  {
   "cell_type": "markdown",
   "metadata": {},
   "source": [
    "You can switch the order of the arguments and it will still work:"
   ]
  },
  {
   "cell_type": "code",
   "execution_count": 26,
   "metadata": {},
   "outputs": [
    {
     "data": {
      "text/plain": [
       "Temperature = 352.87908969535823 K"
      ]
     },
     "execution_count": 26,
     "metadata": {},
     "output_type": "execute_result"
    }
   ],
   "source": [
    "T = Temperature(Pressure(80u\"kPa\"),Density(1.2),gas=CO2)"
   ]
  },
  {
   "cell_type": "markdown",
   "metadata": {},
   "source": [
    "Then we can calculate the enthalpy, for example:"
   ]
  },
  {
   "cell_type": "code",
   "execution_count": 24,
   "metadata": {},
   "outputs": [
    {
     "data": {
      "text/plain": [
       "Enthalpy = 195733.30769759143 J kg⁻¹"
      ]
     },
     "execution_count": 24,
     "metadata": {},
     "output_type": "execute_result"
    }
   ],
   "source": [
    "Enthalpy(T,gas=CO2)"
   ]
  },
  {
   "cell_type": "markdown",
   "metadata": {},
   "source": [
    "What is the speed of sound of air at 20 degrees Celsius? Let's find out:"
   ]
  },
  {
   "cell_type": "code",
   "execution_count": 27,
   "metadata": {},
   "outputs": [
    {
     "data": {
      "text/plain": [
       "SoundSpeed = 354.7163232781936 m s⁻¹"
      ]
     },
     "execution_count": 27,
     "metadata": {},
     "output_type": "execute_result"
    }
   ],
   "source": [
    "SoundSpeed(Temperature(40u\"°C\"),gas=Air)"
   ]
  },
  {
   "cell_type": "markdown",
   "metadata": {},
   "source": [
    "How about oxygen?"
   ]
  },
  {
   "cell_type": "code",
   "execution_count": 29,
   "metadata": {},
   "outputs": [
    {
     "data": {
      "text/plain": [
       "SoundSpeed = 325.97248434464626 m s⁻¹"
      ]
     },
     "execution_count": 29,
     "metadata": {},
     "output_type": "execute_result"
    }
   ],
   "source": [
    "SoundSpeed(Temperature(20u\"°C\"),gas=O2)"
   ]
  },
  {
   "cell_type": "markdown",
   "metadata": {},
   "source": [
    "**Note: the default gas is air. So if you do not put the `gas=` argument in,\n",
    "it will assume air at standard conditions.**"
   ]
  },
  {
   "cell_type": "markdown",
   "metadata": {},
   "source": [
    "---\n",
    "\n",
    "*This notebook was generated using [Literate.jl](https://github.com/fredrikekre/Literate.jl).*"
   ]
  }
 ],
 "metadata": {
  "kernelspec": {
   "display_name": "Julia 1.6.0",
   "language": "julia",
   "name": "julia-1.6"
  },
  "language_info": {
   "file_extension": ".jl",
   "mimetype": "application/julia",
   "name": "julia",
   "version": "1.6.0"
  }
 },
 "nbformat": 4,
 "nbformat_minor": 3
}
