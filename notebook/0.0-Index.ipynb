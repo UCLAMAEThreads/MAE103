{
 "cells": [
  {
   "cell_type": "markdown",
   "source": [
    "<img src=\"https://raw.githubusercontent.com/UCLAMAEThreads/MAE103/main/notebook/logo_UCLA_blue_boxed.svg\" alt=\"ucla logo\" width=\"150\" align=\"left\"/>"
   ],
   "metadata": {}
  },
  {
   "cell_type": "markdown",
   "source": [
    "### **MAE 103 - Elementary Fluid Mechanics**\n",
    "<hr />"
   ],
   "metadata": {}
  },
  {
   "cell_type": "markdown",
   "source": [
    "These Jupyter notebooks and associated code serve as a companion to the course.\n",
    "\n",
    "These are not static notebooks. **You are encouraged to play with them: run with different parameter values, create other plots, etc.!** The whole point is to enable an understanding of fluid mechanics through interactiveness.\n",
    "\n",
    "*The code is released under the [MIT license](https://opensource.org/licenses/MIT).*\n",
    "<hr />"
   ],
   "metadata": {}
  },
  {
   "cell_type": "markdown",
   "source": [
    "## Table of Notebooks\n",
    "\n",
    "- [Introduction](0.1-WelcomeToJulia.ipynb)\n",
    "\n",
    "#### Chapter 1 - Fluid properties, flow quantities, and dimensional analysis\n",
    "\n",
    "- [1.0 Units and quantities](1.0-UnitsAndQuantities.ipynb)\n",
    "- [1.1 Velocity profiles](1.1-VelocityProfiles.ipynb)\n",
    "- [1.2 Dimensionless quantities](1.2-DimensionlessQuantities.ipynb)\n",
    "- [1.3 Dimensional analysis](1.3-DimensionalAnalysis.ipynb)\n",
    "\n",
    "\n",
    "#### Chapter 2 - Fluid statics\n",
    "\n",
    "- [2.0 Basics of fluid statics](2.0-FluidStatics.ipynb)\n",
    "- [2.1 Manometry](2.1-Manometry.ipynb)\n",
    "- [2.2 Submerged surfaces](2.2-SubmergedSurfaces.ipynb)\n",
    "\n",
    "\n",
    "#### Chapter 3 - Flow kinematics\n",
    "\n",
    "- [3.0 Streamlines](3.0-Streamlines.ipynb)\n",
    "\n",
    "\n",
    "#### Chapter 4 - Control volume analysis\n",
    "\n",
    "-\n",
    "\n",
    "#### Chapter 5 - Pipe flow systems\n",
    "\n",
    "- [5.0 Energy equation example](5.0-EnergyEquationExample.jl)\n",
    "\n",
    "#### Chapter 6 - Compressible flow\n",
    "\n",
    "- [6.0 Basic gas dynamics](6.0-BasicGasDynamics.ipynb)\n",
    "- [6.1 Isentropic gas dynamics](6.1-IsentropicGasDynamics.ipynb)\n",
    "- [6.2 Converging-diverging nozzles](6.2-ConvergingDivergingNozzle.ipynb)"
   ],
   "metadata": {}
  },
  {
   "cell_type": "markdown",
   "source": [
    "---\n",
    "\n",
    "*This notebook was generated using [Literate.jl](https://github.com/fredrikekre/Literate.jl).*"
   ],
   "metadata": {}
  }
 ],
 "nbformat_minor": 3,
 "metadata": {
  "language_info": {
   "file_extension": ".jl",
   "mimetype": "application/julia",
   "name": "julia",
   "version": "1.6.0"
  },
  "kernelspec": {
   "name": "julia-1.6",
   "display_name": "Julia 1.6.0",
   "language": "julia"
  }
 },
 "nbformat": 4
}
