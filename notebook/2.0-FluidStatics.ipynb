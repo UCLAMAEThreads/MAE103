{
 "cells": [
  {
   "cell_type": "markdown",
   "source": [
    "<img src=\"https://raw.githubusercontent.com/UCLAMAEThreads/MAE103/main/notebook/logo_UCLA_blue_boxed.svg\" alt=\"ucla logo\" width=\"150\" align=\"left\"/>"
   ],
   "metadata": {}
  },
  {
   "cell_type": "markdown",
   "source": [
    "### **MAE 103 - Elementary Fluid Mechanics**\n",
    "<hr />"
   ],
   "metadata": {}
  },
  {
   "cell_type": "markdown",
   "source": [
    "# Fluid statics\n",
    "In this notebook, we will learn\n",
    "We will learn about\n",
    "* About the specific weight of a fluid and how pressure increases with depth\n",
    "* The concept of a fluid interface and a free surface\n",
    "* How to perform basic calculations"
   ],
   "metadata": {}
  },
  {
   "cell_type": "markdown",
   "source": [
    "### Set up the module"
   ],
   "metadata": {}
  },
  {
   "outputs": [],
   "cell_type": "code",
   "source": [
    "using MAE103"
   ],
   "metadata": {},
   "execution_count": 1
  },
  {
   "outputs": [
    {
     "name": "stdout",
     "output_type": "stream",
     "text": [
      "    Building Conda ─→ `~/.julia/scratchspaces/44cfe95a-1eb2-52ea-b672-e2afdf69b78f/6231e40619c15148bcb80aa19d731e629877d762/build.log`\n",
      "    Building PyCall → `~/.julia/scratchspaces/44cfe95a-1eb2-52ea-b672-e2afdf69b78f/dd1a970b543bd02efce2984582e996af28cab27f/build.log`\n",
      "objc[56873]: Class RunLoopModeTracker is implemented in both /Users/jeff/.julia/artifacts/ee74d003b12e6dd5f748e8cefb1688edbdfb184b/lib/QtCore.framework/Versions/5/QtCore (0x14a21baa8) and /Users/jeff/.julia/conda/3/lib/libQt5Core.5.9.7.dylib (0x154f53a80). One of the two will be used. Which one is undefined.\n"
     ]
    }
   ],
   "cell_type": "code",
   "source": [
    "using Plots"
   ],
   "metadata": {},
   "execution_count": 2
  },
  {
   "cell_type": "markdown",
   "source": [
    "Fluid statics basically involves fluids that are not in motion (although we'll generalize\n",
    "this later) It is described by a basic equation that governs the pressure,\n",
    "\n",
    "$$\\dfrac{\\mathrm{d}p}{\\mathrm{d}z} = -\\rho g$$\n",
    "\n",
    "where $\\rho$ is the density of the fluid, $g$ is gravity, and $z$ is a coordinate\n",
    "pointing vertically upward (i.e., $g$ is pointing in the $-z$ direction). The grouping\n",
    "$\\rho g$ is called the *specific weight* of the fluid, and is usually given the symbol\n",
    "$\\gamma$.\n",
    "\n",
    "For example, for water, compare"
   ],
   "metadata": {}
  },
  {
   "outputs": [
    {
     "output_type": "execute_result",
     "data": {
      "text/plain": "9796.84335 kg m⁻² s⁻²"
     },
     "metadata": {},
     "execution_count": 3
    }
   ],
   "cell_type": "code",
   "source": [
    "ρg = Density(Water)*Gravity()"
   ],
   "metadata": {},
   "execution_count": 3
  },
  {
   "cell_type": "markdown",
   "source": [
    "with"
   ],
   "metadata": {}
  },
  {
   "outputs": [
    {
     "output_type": "execute_result",
     "data": {
      "text/plain": "SpecificWeight = 9796.84335 N m⁻³"
     },
     "metadata": {},
     "execution_count": 4
    }
   ],
   "cell_type": "code",
   "source": [
    "γ = SpecificWeight(Water)"
   ],
   "metadata": {},
   "execution_count": 4
  },
  {
   "cell_type": "markdown",
   "source": [
    "This equation shows us that pressure increases with depth, in the direction of gravity.\n",
    "However, it is important to understand that it only tells us about *differences*\n",
    "of pressure, not absolute pressure:\n",
    "\n",
    "$$p_2 - p_1 = -\\gamma (z_2 - z_2)$$\n",
    "\n",
    "Notice that it doesn't matter how wide the fluid is. It could be in the ocean\n",
    "or in a small tube. Only depth matters, since it is the weight of fluid *per unit\n",
    "area* above a certain position that contributes to the pressure."
   ],
   "metadata": {}
  },
  {
   "cell_type": "markdown",
   "source": [
    "To give an example of how we use this, let's first define the concept of a *free\n",
    "surface*: the interface between a liquid and a gas. The most obvious example of\n",
    "this is where liquid and air meet, like at the surface of the ocean or\n",
    "in a bath of water. Gases are much less dense than liquids at standard conditions,\n",
    "so they have much smaller specific weights. This means that the pressure\n",
    "variations in a static gas are much smaller than in a static liquid."
   ],
   "metadata": {}
  },
  {
   "outputs": [
    {
     "output_type": "execute_result",
     "data": {
      "text/plain": "SpecificWeight = 12.01535944185574 N m⁻³"
     },
     "metadata": {},
     "execution_count": 5
    }
   ],
   "cell_type": "code",
   "source": [
    "SpecificWeight(Air)"
   ],
   "metadata": {},
   "execution_count": 5
  },
  {
   "cell_type": "markdown",
   "source": [
    "As a result, it is safe to assume that (absolute) pressure in the gas is uniform, and\n",
    "equal to some ambient value. For example, in air, we often assume it is 1 atm.\n",
    "We often use the symbol $p_\\infty$ for this ambient pressure:"
   ],
   "metadata": {}
  },
  {
   "outputs": [
    {
     "output_type": "execute_result",
     "data": {
      "text/plain": "Pressure = 101325.0 Pa"
     },
     "metadata": {},
     "execution_count": 6
    }
   ],
   "cell_type": "code",
   "source": [
    "p∞ = Pressure(1u\"atm\")"
   ],
   "metadata": {},
   "execution_count": 6
  },
  {
   "cell_type": "markdown",
   "source": [
    "So let's get an appreciated for how much the pressure increases in water due to fluid\n",
    "statics. For example, in 1 m of water, the pressure increases by"
   ],
   "metadata": {}
  },
  {
   "outputs": [
    {
     "output_type": "execute_result",
     "data": {
      "text/plain": "Pressure = 9796.84335 Pa"
     },
     "metadata": {},
     "execution_count": 7
    }
   ],
   "cell_type": "code",
   "source": [
    "dp = Pressure(SpecificWeight(Water)*1u\"m\")"
   ],
   "metadata": {},
   "execution_count": 7
  },
  {
   "cell_type": "markdown",
   "source": [
    "How much is this increase in atmospheres?"
   ],
   "metadata": {}
  },
  {
   "outputs": [
    {
     "output_type": "execute_result",
     "data": {
      "text/plain": "0.09668732642487046 atm"
     },
     "metadata": {},
     "execution_count": 8
    }
   ],
   "cell_type": "code",
   "source": [
    "value(dp,u\"atm\")"
   ],
   "metadata": {},
   "execution_count": 8
  },
  {
   "cell_type": "markdown",
   "source": [
    "so for every meter of depth, the pressure increases by 10 percent of one\n",
    "atmosphere. This means we only need to go down to 10 meters (or 34 feet)\n",
    "to increase the pressure by one atmosphere. That's not far at all."
   ],
   "metadata": {}
  },
  {
   "cell_type": "markdown",
   "source": [
    "Because the fluid statics equation describes pressure differences, then it can be\n",
    "used in a *cumulative* manner. In other words, to calculate the pressure at some\n",
    "point, we can add the contributions of all of the fluid (or fluids) above that point."
   ],
   "metadata": {}
  },
  {
   "cell_type": "markdown",
   "source": [
    "### Example\n",
    "A one-foot layer of glycerin lies below a 4-inch layer of water. The water is exposed\n",
    "to pressurized air at $p_\\infty = 3$ atm. Determine the pressure at the bottom of the glycerin\n",
    "layer, in Pa.\n",
    "\n",
    "We simply add the contributions in each layer, and the answer will be\n",
    "\n",
    "$p = p_\\infty + \\gamma_w h_w + \\gamma_g h_g$\n",
    "\n",
    "where $\\gamma_w$ is the specific weight of water, $h_g$ is the height of the\n",
    "water layer, $\\gamma_g$ the specific weight of glycerin, and $h_g$ the\n",
    "height of this layer. As usual, we need to make sure that the units are consistent\n",
    "with each other when we perform this calculation. For example, to get\n",
    "the height of the water layer in meters,"
   ],
   "metadata": {}
  },
  {
   "outputs": [
    {
     "output_type": "execute_result",
     "data": {
      "text/plain": "Height = 0.1016 m"
     },
     "metadata": {},
     "execution_count": 9
    }
   ],
   "cell_type": "code",
   "source": [
    "h_w = Height(4u\"inch\")"
   ],
   "metadata": {},
   "execution_count": 9
  },
  {
   "cell_type": "markdown",
   "source": [
    "But actually the tools in our notebooks do this all for us:"
   ],
   "metadata": {}
  },
  {
   "outputs": [
    {
     "output_type": "execute_result",
     "data": {
      "text/plain": "Pressure = 308736.58360356 Pa"
     },
     "metadata": {},
     "execution_count": 10
    }
   ],
   "cell_type": "code",
   "source": [
    "Pressure(3u\"atm\" + SpecificWeight(Water)*4u\"inch\" + SpecificWeight(Glycerin)*1u\"ft\")"
   ],
   "metadata": {},
   "execution_count": 10
  },
  {
   "cell_type": "markdown",
   "source": [
    "---\n",
    "\n",
    "*This notebook was generated using [Literate.jl](https://github.com/fredrikekre/Literate.jl).*"
   ],
   "metadata": {}
  }
 ],
 "nbformat_minor": 3,
 "metadata": {
  "language_info": {
   "file_extension": ".jl",
   "mimetype": "application/julia",
   "name": "julia",
   "version": "1.6.0"
  },
  "kernelspec": {
   "name": "julia-1.6",
   "display_name": "Julia 1.6.0",
   "language": "julia"
  }
 },
 "nbformat": 4
}
