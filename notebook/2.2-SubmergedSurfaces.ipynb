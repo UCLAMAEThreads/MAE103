{
 "cells": [
  {
   "cell_type": "markdown",
   "metadata": {},
   "source": [
    "<img src=\"https://raw.githubusercontent.com/UCLAMAEThreads/MAE103/main/notebook/logo_UCLA_blue_boxed.svg\" alt=\"ucla logo\" width=\"150\" align=\"left\"/>"
   ]
  },
  {
   "cell_type": "markdown",
   "metadata": {},
   "source": [
    "### **MAE 103 - Elementary Fluid Mechanics**\n",
    "<hr />"
   ]
  },
  {
   "cell_type": "markdown",
   "metadata": {},
   "source": [
    "# Submerged surfaces\n",
    "In this notebook, we will learn\n",
    "*"
   ]
  },
  {
   "cell_type": "markdown",
   "metadata": {},
   "source": [
    "### Set up the module"
   ]
  },
  {
   "cell_type": "code",
   "execution_count": 1,
   "metadata": {},
   "outputs": [
    {
     "name": "stderr",
     "output_type": "stream",
     "text": [
      "┌ Info: Precompiling MAE103 [b1d5cc4e-fae3-4202-a2e7-571becae7ae6]\n",
      "└ @ Base loading.jl:1317\n"
     ]
    }
   ],
   "source": [
    "using MAE103"
   ]
  },
  {
   "cell_type": "code",
   "execution_count": 2,
   "metadata": {},
   "outputs": [
    {
     "name": "stderr",
     "output_type": "stream",
     "text": [
      "┌ Info: Precompiling Plots [91a5bcdd-55d7-5caf-9e0b-520d859cae80]\n",
      "└ @ Base loading.jl:1317\n",
      "┌ Info: Precompiling PyPlot [d330b81b-6aea-500a-939a-2ce795aea3ee]\n",
      "└ @ Base loading.jl:1317\n"
     ]
    }
   ],
   "source": [
    "using Plots"
   ]
  },
  {
   "cell_type": "markdown",
   "metadata": {},
   "source": [
    "# Example\n",
    "A circular gate of 3 m diameter is located in an inclined wall (60 degrees\n",
    "from horizontal) of a large reservoir filled with water. A horizontal shaft runs through\n",
    "the center of the gate. The shaft is at a depth of 12 m. The other side\n",
    "of the gate is exposed to air at atmospheric pressure.\n",
    "* What is the force on the gate?\n",
    "* Where does this force effectively act?\n",
    "* What is the moment applied by the water on the gate shaft?"
   ]
  },
  {
   "cell_type": "markdown",
   "metadata": {},
   "source": [
    "Here, we are working with a simple, symmetric shape (a circle), and we\n",
    "know that the centroid of a circle is at its center. Since the shaft runs\n",
    "through the center, we know that the centroid is at a depth of 12 m."
   ]
  },
  {
   "cell_type": "code",
   "execution_count": 5,
   "metadata": {},
   "outputs": [
    {
     "data": {
      "text/plain": [
       "1.0471975511965976"
      ]
     },
     "execution_count": 5,
     "metadata": {},
     "output_type": "execute_result"
    }
   ],
   "source": [
    "hc = Depth(12)\n",
    "d = Diameter(3)\n",
    "Θ = 60*π/180"
   ]
  },
  {
   "cell_type": "markdown",
   "metadata": {},
   "source": [
    "The force is easy to compute, since it is just the specific weight times\n",
    "area times depth.\n",
    "\n",
    "$$F_R = \\gamma h_c A$$\n",
    "\n",
    "(The atmospheric pressure contributes nothing in this problem, since it\n",
    "acts the same on both sides.)"
   ]
  },
  {
   "cell_type": "code",
   "execution_count": 6,
   "metadata": {},
   "outputs": [
    {
     "data": {
      "text/plain": [
       "Force = 830997.6596117103 N"
      ]
     },
     "execution_count": 6,
     "metadata": {},
     "output_type": "execute_result"
    }
   ],
   "source": [
    "A = Area(Circle,d/2)\n",
    "FR = Force(SpecificWeight(Water)*A*hc)"
   ]
  },
  {
   "cell_type": "code",
   "execution_count": 7,
   "metadata": {},
   "outputs": [
    {
     "data": {
      "text/plain": [
       "186815.7055756416 lbf"
      ]
     },
     "execution_count": 7,
     "metadata": {},
     "output_type": "execute_result"
    }
   ],
   "source": [
    "value(FR,u\"lbf\")"
   ]
  },
  {
   "cell_type": "markdown",
   "metadata": {},
   "source": [
    "To find the center of pressure, we use the formula\n",
    "\n",
    "$$y_R = \\dfrac{I_{xc}}{y_c A} + y_c$$\n",
    "\n",
    "This the location along the $y$ axis, which runs from the free surface downward, parallel\n",
    "to the plate. In the formula, $I_{xc}$ is the second area moment about the $x$ axis running\n",
    "through the centroid of the plate, and $y_c$ is the $y$ coordinate of the centroid.\n",
    "\n",
    "But $y_c$ is simply $h_c/\\sin\\theta$:"
   ]
  },
  {
   "cell_type": "code",
   "execution_count": 8,
   "metadata": {},
   "outputs": [
    {
     "data": {
      "text/plain": [
       "Length = 13.85640646055102 m"
      ]
     },
     "execution_count": 8,
     "metadata": {},
     "output_type": "execute_result"
    }
   ],
   "source": [
    "yc = Length(hc/sin(Θ))"
   ]
  },
  {
   "cell_type": "markdown",
   "metadata": {},
   "source": [
    "and $I_{xc}$ we can compute with a handy function:"
   ]
  },
  {
   "cell_type": "code",
   "execution_count": 9,
   "metadata": {},
   "outputs": [
    {
     "data": {
      "text/plain": [
       "SecondAreaMomentX = 3.9760782021995817 m⁴"
      ]
     },
     "execution_count": 9,
     "metadata": {},
     "output_type": "execute_result"
    }
   ],
   "source": [
    "Ixc = SecondAreaMomentX(Circle,d/2)"
   ]
  },
  {
   "cell_type": "code",
   "execution_count": 14,
   "metadata": {},
   "outputs": [
    {
     "data": {
      "text/plain": [
       "SecondAreaMomentX = 104.16666666666667 m⁴"
      ]
     },
     "execution_count": 14,
     "metadata": {},
     "output_type": "execute_result"
    }
   ],
   "source": [
    "SecondAreaMomentX(Rectangle,10,5)"
   ]
  },
  {
   "cell_type": "markdown",
   "metadata": {},
   "source": [
    "Now put them together to get the center of pressure"
   ]
  },
  {
   "cell_type": "code",
   "execution_count": 10,
   "metadata": {},
   "outputs": [
    {
     "data": {
      "text/plain": [
       "Length = 13.897001401353414 m"
      ]
     },
     "execution_count": 10,
     "metadata": {},
     "output_type": "execute_result"
    }
   ],
   "source": [
    "yR = Length(Ixc/(yc*A) + yc)"
   ]
  },
  {
   "cell_type": "markdown",
   "metadata": {},
   "source": [
    "How far is this from the centroid?"
   ]
  },
  {
   "cell_type": "code",
   "execution_count": 11,
   "metadata": {},
   "outputs": [
    {
     "data": {
      "text/plain": [
       "0.040594940802394675 m"
      ]
     },
     "execution_count": 11,
     "metadata": {},
     "output_type": "execute_result"
    }
   ],
   "source": [
    "yR - yc"
   ]
  },
  {
   "cell_type": "markdown",
   "metadata": {},
   "source": [
    "Remember, it is lower than the centroid, because there are higher pressures\n",
    "acting below the centroid than above it.\n",
    "\n",
    "To determine the moment $M_R$ about the shaft, we simply need to remember that the\n",
    "force is acting at the center of pressure, so the moment is equal to the force times the distance\n",
    "of this center of pressure from the shaft (i.e., from the centroid)"
   ]
  },
  {
   "cell_type": "code",
   "execution_count": 12,
   "metadata": {},
   "outputs": [
    {
     "data": {
      "text/plain": [
       "Moment = 33734.3007988659 m N"
      ]
     },
     "execution_count": 12,
     "metadata": {},
     "output_type": "execute_result"
    }
   ],
   "source": [
    "MRc = Moment((yR - yc)*FR)"
   ]
  },
  {
   "cell_type": "markdown",
   "metadata": {},
   "source": [
    "#### A follow-up question\n",
    "What happens to these values as the plate gets deeper?\n",
    "\n",
    "Obviously force gets larger. What about $y_R$ and $M_R$? Let's set the depth\n",
    "at 20 m, and recalculate:"
   ]
  },
  {
   "cell_type": "code",
   "execution_count": 10,
   "metadata": {},
   "outputs": [
    {
     "data": {
      "text/plain": [
       "0.02435696448143787 m"
      ]
     },
     "execution_count": 10,
     "metadata": {},
     "output_type": "execute_result"
    }
   ],
   "source": [
    "hc = Depth(20)\n",
    "FR = Force(SpecificWeight(Water)*A*hc)\n",
    "yc = Length(hc/sin(Θ))\n",
    "yR = Length(Ixc/(yc*A) + yc)\n",
    "yR - yc"
   ]
  },
  {
   "cell_type": "markdown",
   "metadata": {},
   "source": [
    "so it gets a little closer to the centroid as the plate gets lower. What about\n",
    "the moment?"
   ]
  },
  {
   "cell_type": "code",
   "execution_count": 11,
   "metadata": {},
   "outputs": [
    {
     "data": {
      "text/plain": [
       "Moment = 33734.30079886738 m N"
      ]
     },
     "execution_count": 11,
     "metadata": {},
     "output_type": "execute_result"
    }
   ],
   "source": [
    "MR = Moment((yR - yc)*FR)"
   ]
  },
  {
   "cell_type": "markdown",
   "metadata": {},
   "source": [
    "It's exactly the same! In fact, **the moment about the centroid does not\n",
    "depend on how deep the plate is**."
   ]
  },
  {
   "cell_type": "markdown",
   "metadata": {},
   "source": [
    "#### Another follow-up question\n",
    "What happens if the plate becomes more vertical? We'll set $h_c$ to 12 m again\n",
    "and make $Θ = 90^\\circ$. Only $y_c$ changes:"
   ]
  },
  {
   "cell_type": "code",
   "execution_count": 12,
   "metadata": {},
   "outputs": [
    {
     "data": {
      "text/plain": [
       "Force = 830997.6596117103 N"
      ]
     },
     "execution_count": 12,
     "metadata": {},
     "output_type": "execute_result"
    }
   ],
   "source": [
    "hc = Depth(12)\n",
    "Θ = 90*π/180\n",
    "FR = Force(SpecificWeight(Water)*A*hc)"
   ]
  },
  {
   "cell_type": "markdown",
   "metadata": {},
   "source": [
    "Note that **force is not affected** by a change in angle, since only depth\n",
    "of the centroid matters."
   ]
  },
  {
   "cell_type": "code",
   "execution_count": 13,
   "metadata": {},
   "outputs": [
    {
     "data": {
      "text/plain": [
       "0.046875 m"
      ]
     },
     "execution_count": 13,
     "metadata": {},
     "output_type": "execute_result"
    }
   ],
   "source": [
    "yc = Length(hc/sin(Θ))\n",
    "yR = Length(Ixc/(yc*A) + yc)\n",
    "yR - yc"
   ]
  },
  {
   "cell_type": "markdown",
   "metadata": {},
   "source": [
    "So the center of pressure is a little further now from the centroid than\n",
    "when it was at 60 degrees.\n",
    "\n",
    "The moment:"
   ]
  },
  {
   "cell_type": "code",
   "execution_count": 14,
   "metadata": {},
   "outputs": [
    {
     "data": {
      "text/plain": [
       "Moment = 38953.01529429892 m N"
      ]
     },
     "execution_count": 14,
     "metadata": {},
     "output_type": "execute_result"
    }
   ],
   "source": [
    "MR = Moment((yR - yc)*FR)"
   ]
  },
  {
   "cell_type": "markdown",
   "metadata": {},
   "source": [
    "So **moment gets larger as the surface becomes more vertical**. This is because the\n",
    "center of pressure has moved away from the centroid. This is intuitive if you\n",
    "think about the other extreme: a completely horizontal surface. In that situation,\n",
    "the pressure acts uniformly across the plate, so there is **zero net moment**\n",
    "on a horizontal surface."
   ]
  },
  {
   "cell_type": "markdown",
   "metadata": {},
   "source": [
    "---\n",
    "\n",
    "*This notebook was generated using [Literate.jl](https://github.com/fredrikekre/Literate.jl).*"
   ]
  }
 ],
 "metadata": {
  "@webio": {
   "lastCommId": null,
   "lastKernelId": null
  },
  "kernelspec": {
   "display_name": "Julia 1.6.0",
   "language": "julia",
   "name": "julia-1.6"
  },
  "language_info": {
   "file_extension": ".jl",
   "mimetype": "application/julia",
   "name": "julia",
   "version": "1.6.0"
  }
 },
 "nbformat": 4,
 "nbformat_minor": 3
}
